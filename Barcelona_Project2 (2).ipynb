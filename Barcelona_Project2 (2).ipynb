{
    "metadata": {
        "kernelspec": {
            "name": "SQL",
            "display_name": "SQL",
            "language": "sql"
        },
        "language_info": {
            "name": "sql",
            "version": ""
        }
    },
    "nbformat_minor": 2,
    "nbformat": 4,
    "cells": [
        {
            "cell_type": "markdown",
            "source": [
                "# **<u>Barcelona Rent Prices From 2014 - 2022</u>**"
            ],
            "metadata": {
                "azdata_cell_guid": "d6102f4a-757e-4100-aa72-c1fc1a02bc2c"
            },
            "attachments": {}
        },
        {
            "cell_type": "markdown",
            "source": [
                "## <span style=\"color: var(--tw-prose-bold); font-family: Söhne, ui-sans-serif, system-ui, -apple-system, &quot;Segoe UI&quot;, Roboto, Ubuntu, Cantarell, &quot;Noto Sans&quot;, sans-serif, &quot;Helvetica Neue&quot;, Arial, &quot;Apple Color Emoji&quot;, &quot;Segoe UI Emoji&quot;, &quot;Segoe UI Symbol&quot;, &quot;Noto Color Emoji&quot;; font-size: 16px; font-weight: 600; white-space-collapse: preserve;\">1. Average Rent Price Over Time:</span>"
            ],
            "metadata": {
                "azdata_cell_guid": "e6d99f5a-b209-4845-8953-5a3e4aed78ac"
            },
            "attachments": {}
        },
        {
            "cell_type": "code",
            "source": [
                "SELECT Year, ROUND(AVG(Price), 2) AS AvgPrice\r\n",
                "FROM Barcelona_rent_price\r\n",
                "WHERE average_rent = 'average rent (euro/month)'\r\n",
                "GROUP BY Year\r\n",
                "ORDER BY Year;"
            ],
            "metadata": {
                "azdata_cell_guid": "a89f29f0-b259-4d06-87d8-c885e165e9d0",
                "language": "sql",
                "tags": []
            },
            "outputs": [
                {
                    "output_type": "display_data",
                    "data": {
                        "text/html": "(9 rows affected)"
                    },
                    "metadata": {}
                },
                {
                    "output_type": "display_data",
                    "data": {
                        "text/html": "Total execution time: 00:00:00.016"
                    },
                    "metadata": {}
                },
                {
                    "output_type": "execute_result",
                    "execution_count": 5,
                    "data": {
                        "application/vnd.dataresource+json": {
                            "schema": {
                                "fields": [
                                    {
                                        "name": "Year"
                                    },
                                    {
                                        "name": "AvgPrice"
                                    }
                                ]
                            },
                            "data": [
                                {
                                    "Year": "2014",
                                    "AvgPrice": "661.64"
                                },
                                {
                                    "Year": "2015",
                                    "AvgPrice": "695.24"
                                },
                                {
                                    "Year": "2016",
                                    "AvgPrice": "750.96"
                                },
                                {
                                    "Year": "2017",
                                    "AvgPrice": "829.38"
                                },
                                {
                                    "Year": "2018",
                                    "AvgPrice": "874.05"
                                },
                                {
                                    "Year": "2019",
                                    "AvgPrice": "923.32"
                                },
                                {
                                    "Year": "2020",
                                    "AvgPrice": "915.92"
                                },
                                {
                                    "Year": "2021",
                                    "AvgPrice": "871.59"
                                },
                                {
                                    "Year": "2022",
                                    "AvgPrice": "922.55"
                                }
                            ]
                        },
                        "text/html": "<table><tr><th>Year</th><th>AvgPrice</th></tr><tr><td>2014</td><td>661.64</td></tr><tr><td>2015</td><td>695.24</td></tr><tr><td>2016</td><td>750.96</td></tr><tr><td>2017</td><td>829.38</td></tr><tr><td>2018</td><td>874.05</td></tr><tr><td>2019</td><td>923.32</td></tr><tr><td>2020</td><td>915.92</td></tr><tr><td>2021</td><td>871.59</td></tr><tr><td>2022</td><td>922.55</td></tr></table>"
                    },
                    "metadata": {
                        "azdata_chartOptions": {
                            "type": "line",
                            "dataDirection": "vertical",
                            "columnsAsLabels": true,
                            "labelFirstColumn": true,
                            "legendPosition": "top",
                            "dataType": "number"
                        }
                    }
                }
            ],
            "execution_count": 5
        },
        {
            "cell_type": "markdown",
            "source": [
                "## <span style=\"border: 0px solid rgb(217, 217, 227); box-sizing: border-box; --tw-border-spacing-x: 0; --tw-border-spacing-y: 0; --tw-translate-x: 0; --tw-translate-y: 0; --tw-rotate: 0; --tw-skew-x: 0; --tw-skew-y: 0; --tw-scale-x: 1; --tw-scale-y: 1; --tw-pan-x: ; --tw-pan-y: ; --tw-pinch-zoom: ; --tw-scroll-snap-strictness: proximity; --tw-gradient-from-position: ; --tw-gradient-via-position: ; --tw-gradient-to-position: ; --tw-ordinal: ; --tw-slashed-zero: ; --tw-numeric-figure: ; --tw-numeric-spacing: ; --tw-numeric-fraction: ; --tw-ring-inset: ; --tw-ring-offset-width: 0px; --tw-ring-offset-color: #fff; --tw-ring-color: rgba(69,89,164,.5); --tw-ring-offset-shadow: 0 0 transparent; --tw-ring-shadow: 0 0 transparent; --tw-shadow: 0 0 transparent; --tw-shadow-colored: 0 0 transparent; --tw-blur: ; --tw-brightness: ; --tw-contrast: ; --tw-grayscale: ; --tw-hue-rotate: ; --tw-invert: ; --tw-saturate: ; --tw-sepia: ; --tw-drop-shadow: ; --tw-backdrop-blur: ; --tw-backdrop-brightness: ; --tw-backdrop-contrast: ; --tw-backdrop-grayscale: ; --tw-backdrop-hue-rotate: ; --tw-backdrop-invert: ; --tw-backdrop-opacity: ; --tw-backdrop-saturate: ; --tw-backdrop-sepia: ; font-weight: 600; color: var(--tw-prose-bold); font-family: Söhne, ui-sans-serif, system-ui, -apple-system, &quot;Segoe UI&quot;, Roboto, Ubuntu, Cantarell, &quot;Noto Sans&quot;, sans-serif, &quot;Helvetica Neue&quot;, Arial, &quot;Apple Color Emoji&quot;, &quot;Segoe UI Emoji&quot;, &quot;Segoe UI Symbol&quot;, &quot;Noto Color Emoji&quot;; font-size: 16px; white-space-collapse: preserve;\">2. Maximum Price Per Year</span>"
            ],
            "metadata": {
                "language": "sql",
                "azdata_cell_guid": "ea8346e4-d39f-4830-991a-4c8ab1416278"
            },
            "attachments": {}
        },
        {
            "cell_type": "code",
            "source": [
                "SELECT Neighbourhood, MAX(Price) AS MaxPrice\r\n",
                "FROM Barcelona_rent_price\r\n",
                "WHERE average_rent = 'average rent (euro/month)'\r\n",
                "GROUP BY Neighbourhood;"
            ],
            "metadata": {
                "language": "sql",
                "azdata_cell_guid": "3b3a01fb-3a8e-4b37-8935-63b637fb8da8"
            },
            "outputs": [
                {
                    "output_type": "display_data",
                    "data": {
                        "text/html": "(9 rows affected)"
                    },
                    "metadata": {}
                },
                {
                    "output_type": "display_data",
                    "data": {
                        "text/html": "Total execution time: 00:00:00.013"
                    },
                    "metadata": {}
                },
                {
                    "output_type": "execute_result",
                    "execution_count": 20,
                    "data": {
                        "application/vnd.dataresource+json": {
                            "schema": {
                                "fields": [
                                    {
                                        "name": "Year"
                                    },
                                    {
                                        "name": "MaxPrice"
                                    }
                                ]
                            },
                            "data": [
                                {
                                    "Year": "2014",
                                    "MaxPrice": "1762.06"
                                },
                                {
                                    "Year": "2015",
                                    "MaxPrice": "2034"
                                },
                                {
                                    "Year": "2016",
                                    "MaxPrice": "1692.2"
                                },
                                {
                                    "Year": "2017",
                                    "MaxPrice": "1882.42"
                                },
                                {
                                    "Year": "2018",
                                    "MaxPrice": "1849.52"
                                },
                                {
                                    "Year": "2019",
                                    "MaxPrice": "2023.4"
                                },
                                {
                                    "Year": "2020",
                                    "MaxPrice": "1932.3"
                                },
                                {
                                    "Year": "2021",
                                    "MaxPrice": "1816.5"
                                },
                                {
                                    "Year": "2022",
                                    "MaxPrice": "1944.5"
                                }
                            ]
                        },
                        "text/html": "<table><tr><th>Year</th><th>MaxPrice</th></tr><tr><td>2014</td><td>1762.06</td></tr><tr><td>2015</td><td>2034</td></tr><tr><td>2016</td><td>1692.2</td></tr><tr><td>2017</td><td>1882.42</td></tr><tr><td>2018</td><td>1849.52</td></tr><tr><td>2019</td><td>2023.4</td></tr><tr><td>2020</td><td>1932.3</td></tr><tr><td>2021</td><td>1816.5</td></tr><tr><td>2022</td><td>1944.5</td></tr></table>"
                    },
                    "metadata": {
                        "azdata_chartOptions": {
                            "type": "bar",
                            "dataDirection": "horizontal",
                            "columnsAsLabels": true,
                            "labelFirstColumn": true,
                            "legendPosition": "top"
                        }
                    }
                }
            ],
            "execution_count": 20
        },
        {
            "cell_type": "markdown",
            "source": [
                "## <span style=\"color: var(--tw-prose-bold); font-family: Söhne, ui-sans-serif, system-ui, -apple-system, &quot;Segoe UI&quot;, Roboto, Ubuntu, Cantarell, &quot;Noto Sans&quot;, sans-serif, &quot;Helvetica Neue&quot;, Arial, &quot;Apple Color Emoji&quot;, &quot;Segoe UI Emoji&quot;, &quot;Segoe UI Symbol&quot;, &quot;Noto Color Emoji&quot;; font-size: 16px; font-weight: 600; white-space-collapse: preserve;\">3. Top 5 Neighborhoods with Highest Average Rent Prices:</span>"
            ],
            "metadata": {
                "language": "sql",
                "azdata_cell_guid": "ded74095-e15a-4689-b065-3bfa8cab4bf3"
            },
            "attachments": {}
        },
        {
            "cell_type": "code",
            "source": [
                "SELECT TOP(5) Neighbourhood, ROUND(AVG(Price), 2) AS AvgPrice\r\n",
                "FROM Barcelona_rent_price\r\n",
                "WHERE average_rent = 'average rent (euro/month)'\r\n",
                "GROUP BY Neighbourhood\r\n",
                "ORDER BY AvgPrice DESC"
            ],
            "metadata": {
                "language": "sql",
                "azdata_cell_guid": "2f455ef7-5314-401a-bd5e-2604deaeca51"
            },
            "outputs": [
                {
                    "output_type": "display_data",
                    "data": {
                        "text/html": "(5 rows affected)"
                    },
                    "metadata": {}
                },
                {
                    "output_type": "display_data",
                    "data": {
                        "text/html": "Total execution time: 00:00:00.036"
                    },
                    "metadata": {}
                },
                {
                    "output_type": "execute_result",
                    "execution_count": 6,
                    "data": {
                        "application/vnd.dataresource+json": {
                            "schema": {
                                "fields": [
                                    {
                                        "name": "Neighbourhood"
                                    },
                                    {
                                        "name": "AvgPrice"
                                    }
                                ]
                            },
                            "data": [
                                {
                                    "Neighbourhood": "Pedralbes",
                                    "AvgPrice": "1711.2"
                                },
                                {
                                    "Neighbourhood": "les Tres Torres",
                                    "AvgPrice": "1550.13"
                                },
                                {
                                    "Neighbourhood": "Sant Gervasi - Galvany",
                                    "AvgPrice": "1283.5"
                                },
                                {
                                    "Neighbourhood": "Sarria",
                                    "AvgPrice": "1266.71"
                                },
                                {
                                    "Neighbourhood": "la Vila Olimpica del Poblenou",
                                    "AvgPrice": "1243.12"
                                }
                            ]
                        },
                        "text/html": "<table><tr><th>Neighbourhood</th><th>AvgPrice</th></tr><tr><td>Pedralbes</td><td>1711.2</td></tr><tr><td>les Tres Torres</td><td>1550.13</td></tr><tr><td>Sant Gervasi - Galvany</td><td>1283.5</td></tr><tr><td>Sarria</td><td>1266.71</td></tr><tr><td>la Vila Olimpica del Poblenou</td><td>1243.12</td></tr></table>"
                    },
                    "metadata": {
                        "azdata_chartOptions": {
                            "type": "horizontalBar",
                            "dataDirection": "horizontal",
                            "columnsAsLabels": true,
                            "labelFirstColumn": true,
                            "legendPosition": "top",
                            "dataType": "number",
                            "encoding": "hex",
                            "imageFormat": "jpeg"
                        }
                    }
                }
            ],
            "execution_count": 6
        },
        {
            "cell_type": "markdown",
            "source": [
                "## <span style=\"border: 0px solid rgb(217, 217, 227); box-sizing: border-box; --tw-border-spacing-x: 0; --tw-border-spacing-y: 0; --tw-translate-x: 0; --tw-translate-y: 0; --tw-rotate: 0; --tw-skew-x: 0; --tw-skew-y: 0; --tw-scale-x: 1; --tw-scale-y: 1; --tw-pan-x: ; --tw-pan-y: ; --tw-pinch-zoom: ; --tw-scroll-snap-strictness: proximity; --tw-gradient-from-position: ; --tw-gradient-via-position: ; --tw-gradient-to-position: ; --tw-ordinal: ; --tw-slashed-zero: ; --tw-numeric-figure: ; --tw-numeric-spacing: ; --tw-numeric-fraction: ; --tw-ring-inset: ; --tw-ring-offset-width: 0px; --tw-ring-offset-color: #fff; --tw-ring-color: rgba(69,89,164,.5); --tw-ring-offset-shadow: 0 0 transparent; --tw-ring-shadow: 0 0 transparent; --tw-shadow: 0 0 transparent; --tw-shadow-colored: 0 0 transparent; --tw-blur: ; --tw-brightness: ; --tw-contrast: ; --tw-grayscale: ; --tw-hue-rotate: ; --tw-invert: ; --tw-saturate: ; --tw-sepia: ; --tw-drop-shadow: ; --tw-backdrop-blur: ; --tw-backdrop-brightness: ; --tw-backdrop-contrast: ; --tw-backdrop-grayscale: ; --tw-backdrop-hue-rotate: ; --tw-backdrop-invert: ; --tw-backdrop-opacity: ; --tw-backdrop-saturate: ; --tw-backdrop-sepia: ; font-weight: 600; color: var(--tw-prose-bold); font-family: Söhne, ui-sans-serif, system-ui, -apple-system, &quot;Segoe UI&quot;, Roboto, Ubuntu, Cantarell, &quot;Noto Sans&quot;, sans-serif, &quot;Helvetica Neue&quot;, Arial, &quot;Apple Color Emoji&quot;, &quot;Segoe UI Emoji&quot;, &quot;Segoe UI Symbol&quot;, &quot;Noto Color Emoji&quot;; font-size: 16px; white-space-collapse: preserve;\">4. Annual Rent Price Change Percentage:</span>"
            ],
            "metadata": {
                "language": "sql",
                "azdata_cell_guid": "8a350a70-f24d-43b4-b32b-16acc88415e6"
            },
            "attachments": {}
        },
        {
            "cell_type": "code",
            "source": [
                "SELECT Year, ROUND(((AVG(Price) - LAG(AVG(Price), 1) OVER (ORDER BY Year)) / LAG(AVG(Price), 1) OVER (ORDER BY Year)) * 100, 2) AS PriceChangePercentage\r\n",
                "FROM Barcelona_rent_price\r\n",
                "WHERE average_rent = 'average rent (euro/month)'\r\n",
                "GROUP BY Year\r\n",
                "ORDER BY Year;"
            ],
            "metadata": {
                "language": "sql",
                "azdata_cell_guid": "185f0de7-028f-4a20-b11f-408da4840301",
                "tags": []
            },
            "outputs": [
                {
                    "output_type": "display_data",
                    "data": {
                        "text/html": "(9 rows affected)"
                    },
                    "metadata": {}
                },
                {
                    "output_type": "display_data",
                    "data": {
                        "text/html": "Total execution time: 00:00:00.008"
                    },
                    "metadata": {}
                },
                {
                    "output_type": "execute_result",
                    "execution_count": 2,
                    "data": {
                        "application/vnd.dataresource+json": {
                            "schema": {
                                "fields": [
                                    {
                                        "name": "Year"
                                    },
                                    {
                                        "name": "PriceChangePercentage"
                                    }
                                ]
                            },
                            "data": [
                                {
                                    "Year": "2014",
                                    "PriceChangePercentage": "NULL"
                                },
                                {
                                    "Year": "2015",
                                    "PriceChangePercentage": "5.08"
                                },
                                {
                                    "Year": "2016",
                                    "PriceChangePercentage": "8.01"
                                },
                                {
                                    "Year": "2017",
                                    "PriceChangePercentage": "10.44"
                                },
                                {
                                    "Year": "2018",
                                    "PriceChangePercentage": "5.39"
                                },
                                {
                                    "Year": "2019",
                                    "PriceChangePercentage": "5.64"
                                },
                                {
                                    "Year": "2020",
                                    "PriceChangePercentage": "-0.8"
                                },
                                {
                                    "Year": "2021",
                                    "PriceChangePercentage": "-4.84"
                                },
                                {
                                    "Year": "2022",
                                    "PriceChangePercentage": "5.85"
                                }
                            ]
                        },
                        "text/html": "<table><tr><th>Year</th><th>PriceChangePercentage</th></tr><tr><td>2014</td><td>NULL</td></tr><tr><td>2015</td><td>5.08</td></tr><tr><td>2016</td><td>8.01</td></tr><tr><td>2017</td><td>10.44</td></tr><tr><td>2018</td><td>5.39</td></tr><tr><td>2019</td><td>5.64</td></tr><tr><td>2020</td><td>-0.8</td></tr><tr><td>2021</td><td>-4.84</td></tr><tr><td>2022</td><td>5.85</td></tr></table>"
                    },
                    "metadata": {
                        "azdata_chartOptions": {
                            "type": "horizontalBar",
                            "dataDirection": "vertical",
                            "columnsAsLabels": true,
                            "labelFirstColumn": true,
                            "legendPosition": "top",
                            "dataType": "number"
                        }
                    }
                }
            ],
            "execution_count": 2
        },
        {
            "cell_type": "markdown",
            "source": [
                "## <span style=\"border: 0px solid rgb(217, 217, 227); box-sizing: border-box; --tw-border-spacing-x: 0; --tw-border-spacing-y: 0; --tw-translate-x: 0; --tw-translate-y: 0; --tw-rotate: 0; --tw-skew-x: 0; --tw-skew-y: 0; --tw-scale-x: 1; --tw-scale-y: 1; --tw-pan-x: ; --tw-pan-y: ; --tw-pinch-zoom: ; --tw-scroll-snap-strictness: proximity; --tw-gradient-from-position: ; --tw-gradient-via-position: ; --tw-gradient-to-position: ; --tw-ordinal: ; --tw-slashed-zero: ; --tw-numeric-figure: ; --tw-numeric-spacing: ; --tw-numeric-fraction: ; --tw-ring-inset: ; --tw-ring-offset-width: 0px; --tw-ring-offset-color: #fff; --tw-ring-color: rgba(69,89,164,.5); --tw-ring-offset-shadow: 0 0 transparent; --tw-ring-shadow: 0 0 transparent; --tw-shadow: 0 0 transparent; --tw-shadow-colored: 0 0 transparent; --tw-blur: ; --tw-brightness: ; --tw-contrast: ; --tw-grayscale: ; --tw-hue-rotate: ; --tw-invert: ; --tw-saturate: ; --tw-sepia: ; --tw-drop-shadow: ; --tw-backdrop-blur: ; --tw-backdrop-brightness: ; --tw-backdrop-contrast: ; --tw-backdrop-grayscale: ; --tw-backdrop-hue-rotate: ; --tw-backdrop-invert: ; --tw-backdrop-opacity: ; --tw-backdrop-saturate: ; --tw-backdrop-sepia: ; font-weight: 600; color: var(--tw-prose-bold); font-family: Söhne, ui-sans-serif, system-ui, -apple-system, &quot;Segoe UI&quot;, Roboto, Ubuntu, Cantarell, &quot;Noto Sans&quot;, sans-serif, &quot;Helvetica Neue&quot;, Arial, &quot;Apple Color Emoji&quot;, &quot;Segoe UI Emoji&quot;, &quot;Segoe UI Symbol&quot;, &quot;Noto Color Emoji&quot;; font-size: 16px; white-space-collapse: preserve;\">5. Year, Trimester, District</span>"
            ],
            "metadata": {
                "language": "sql",
                "azdata_cell_guid": "fa74bd8d-7af3-4bef-954e-a8caf5a34fdb"
            },
            "attachments": {}
        },
        {
            "cell_type": "code",
            "source": [
                "SELECT\r\n",
                "    Year,\r\n",
                "    Trimester,\r\n",
                "    District,\r\n",
                "    ROUND(AVG(Price), 2) AS AvgPrice,\r\n",
                "    MAX(Price) AS MaxPrice,\r\n",
                "    MIN(Price) AS MinPrice\r\n",
                "FROM\r\n",
                "    Barcelona_rent_price\r\n",
                "WHERE average_rent = 'average rent (euro/month)'\r\n",
                "GROUP BY\r\n",
                "    Year, Trimester, District;"
            ],
            "metadata": {
                "language": "sql",
                "azdata_cell_guid": "8afe1b8e-c409-452b-b045-fac504c884b0"
            },
            "outputs": [
                {
                    "output_type": "display_data",
                    "data": {
                        "text/html": "(340 rows affected)"
                    },
                    "metadata": {}
                },
                {
                    "output_type": "display_data",
                    "data": {
                        "text/html": "Total execution time: 00:00:00.021"
                    },
                    "metadata": {}
                },
                {
                    "output_type": "execute_result",
                    "execution_count": 1,
                    "data": {
                        "application/vnd.dataresource+json": {
                            "schema": {
                                "fields": [
                                    {
                                        "name": "Year"
                                    },
                                    {
                                        "name": "Trimester"
                                    },
                                    {
                                        "name": "District"
                                    },
                                    {
                                        "name": "AvgPrice"
                                    },
                                    {
                                        "name": "MaxPrice"
                                    },
                                    {
                                        "name": "MinPrice"
                                    }
                                ]
                            },
                            "data": [
                                {
                                    "Year": "2014",
                                    "Trimester": "1",
                                    "District": "Ciutat Vella",
                                    "AvgPrice": "629.12",
                                    "MaxPrice": "712.79",
                                    "MinPrice": "540.71"
                                },
                                {
                                    "Year": "2014",
                                    "Trimester": "1",
                                    "District": "Eixample",
                                    "AvgPrice": "761.38",
                                    "MaxPrice": "921.4",
                                    "MinPrice": "673.37"
                                },
                                {
                                    "Year": "2014",
                                    "Trimester": "1",
                                    "District": "Gracia",
                                    "AvgPrice": "649.77",
                                    "MaxPrice": "679.8",
                                    "MinPrice": "583.93"
                                },
                                {
                                    "Year": "2014",
                                    "Trimester": "1",
                                    "District": "Horta-Guinardo",
                                    "AvgPrice": "572.4",
                                    "MaxPrice": "737.73",
                                    "MinPrice": "478.7"
                                },
                                {
                                    "Year": "2014",
                                    "Trimester": "1",
                                    "District": "Les Corts",
                                    "AvgPrice": "902.46",
                                    "MaxPrice": "1230",
                                    "MinPrice": "700.16"
                                },
                                {
                                    "Year": "2014",
                                    "Trimester": "1",
                                    "District": "Nou Barris",
                                    "AvgPrice": "478.36",
                                    "MaxPrice": "613.58",
                                    "MinPrice": "241.99"
                                },
                                {
                                    "Year": "2014",
                                    "Trimester": "1",
                                    "District": "Sant Andreu",
                                    "AvgPrice": "555.59",
                                    "MaxPrice": "626.26",
                                    "MinPrice": "461.1"
                                },
                                {
                                    "Year": "2014",
                                    "Trimester": "1",
                                    "District": "Sant Marti",
                                    "AvgPrice": "671.16",
                                    "MaxPrice": "926.43",
                                    "MinPrice": "516.9"
                                },
                                {
                                    "Year": "2014",
                                    "Trimester": "1",
                                    "District": "Sants-Montjuic",
                                    "AvgPrice": "589.72",
                                    "MaxPrice": "631.5",
                                    "MinPrice": "553.55"
                                },
                                {
                                    "Year": "2014",
                                    "Trimester": "1",
                                    "District": "Sarria-Sant Gervasi",
                                    "AvgPrice": "971.25",
                                    "MaxPrice": "1215.85",
                                    "MinPrice": "750.84"
                                },
                                {
                                    "Year": "2014",
                                    "Trimester": "2",
                                    "District": "Ciutat Vella",
                                    "AvgPrice": "624.58",
                                    "MaxPrice": "728.79",
                                    "MinPrice": "541.93"
                                },
                                {
                                    "Year": "2014",
                                    "Trimester": "2",
                                    "District": "Eixample",
                                    "AvgPrice": "761.03",
                                    "MaxPrice": "948.96",
                                    "MinPrice": "663.23"
                                },
                                {
                                    "Year": "2014",
                                    "Trimester": "2",
                                    "District": "Gracia",
                                    "AvgPrice": "648.26",
                                    "MaxPrice": "702.33",
                                    "MinPrice": "551.4"
                                },
                                {
                                    "Year": "2014",
                                    "Trimester": "2",
                                    "District": "Horta-Guinardo",
                                    "AvgPrice": "579.13",
                                    "MaxPrice": "772.41",
                                    "MinPrice": "476.94"
                                },
                                {
                                    "Year": "2014",
                                    "Trimester": "2",
                                    "District": "Les Corts",
                                    "AvgPrice": "991.02",
                                    "MaxPrice": "1459.12",
                                    "MinPrice": "748.64"
                                },
                                {
                                    "Year": "2014",
                                    "Trimester": "2",
                                    "District": "Nou Barris",
                                    "AvgPrice": "460.47",
                                    "MaxPrice": "613.14",
                                    "MinPrice": "295.39"
                                },
                                {
                                    "Year": "2014",
                                    "Trimester": "2",
                                    "District": "Sant Andreu",
                                    "AvgPrice": "493.89",
                                    "MaxPrice": "622.71",
                                    "MinPrice": "231.4"
                                },
                                {
                                    "Year": "2014",
                                    "Trimester": "2",
                                    "District": "Sant Marti",
                                    "AvgPrice": "669.78",
                                    "MaxPrice": "988.89",
                                    "MinPrice": "480.69"
                                },
                                {
                                    "Year": "2014",
                                    "Trimester": "2",
                                    "District": "Sants-Montjuic",
                                    "AvgPrice": "578.25",
                                    "MaxPrice": "624.88",
                                    "MinPrice": "454.44"
                                },
                                {
                                    "Year": "2014",
                                    "Trimester": "2",
                                    "District": "Sarria-Sant Gervasi",
                                    "AvgPrice": "1016.22",
                                    "MaxPrice": "1327.22",
                                    "MinPrice": "761.35"
                                },
                                {
                                    "Year": "2014",
                                    "Trimester": "3",
                                    "District": "Ciutat Vella",
                                    "AvgPrice": "661.29",
                                    "MaxPrice": "790.74",
                                    "MinPrice": "576.45"
                                },
                                {
                                    "Year": "2014",
                                    "Trimester": "3",
                                    "District": "Eixample",
                                    "AvgPrice": "780.41",
                                    "MaxPrice": "934.55",
                                    "MinPrice": "697.69"
                                },
                                {
                                    "Year": "2014",
                                    "Trimester": "3",
                                    "District": "Gracia",
                                    "AvgPrice": "653.38",
                                    "MaxPrice": "711.14",
                                    "MinPrice": "537.15"
                                },
                                {
                                    "Year": "2014",
                                    "Trimester": "3",
                                    "District": "Horta-Guinardo",
                                    "AvgPrice": "580.52",
                                    "MaxPrice": "715",
                                    "MinPrice": "469.77"
                                },
                                {
                                    "Year": "2014",
                                    "Trimester": "3",
                                    "District": "Les Corts",
                                    "AvgPrice": "1020.32",
                                    "MaxPrice": "1506.2",
                                    "MinPrice": "768.46"
                                },
                                {
                                    "Year": "2014",
                                    "Trimester": "3",
                                    "District": "Nou Barris",
                                    "AvgPrice": "457.55",
                                    "MaxPrice": "607.74",
                                    "MinPrice": "145.45"
                                },
                                {
                                    "Year": "2014",
                                    "Trimester": "3",
                                    "District": "Sant Andreu",
                                    "AvgPrice": "553.06",
                                    "MaxPrice": "635.11",
                                    "MinPrice": "419.12"
                                },
                                {
                                    "Year": "2014",
                                    "Trimester": "3",
                                    "District": "Sant Marti",
                                    "AvgPrice": "686.02",
                                    "MaxPrice": "1121.06",
                                    "MinPrice": "423.45"
                                },
                                {
                                    "Year": "2014",
                                    "Trimester": "3",
                                    "District": "Sants-Montjuic",
                                    "AvgPrice": "602.53",
                                    "MaxPrice": "630.89",
                                    "MinPrice": "542.81"
                                },
                                {
                                    "Year": "2014",
                                    "Trimester": "3",
                                    "District": "Sarria-Sant Gervasi",
                                    "AvgPrice": "1044.11",
                                    "MaxPrice": "1386.13",
                                    "MinPrice": "766.33"
                                },
                                {
                                    "Year": "2014",
                                    "Trimester": "4",
                                    "District": "Ciutat Vella",
                                    "AvgPrice": "659.93",
                                    "MaxPrice": "761.68",
                                    "MinPrice": "593.73"
                                },
                                {
                                    "Year": "2014",
                                    "Trimester": "4",
                                    "District": "Eixample",
                                    "AvgPrice": "786.92",
                                    "MaxPrice": "975.96",
                                    "MinPrice": "687.26"
                                },
                                {
                                    "Year": "2014",
                                    "Trimester": "4",
                                    "District": "Gracia",
                                    "AvgPrice": "652.61",
                                    "MaxPrice": "691.94",
                                    "MinPrice": "552.75"
                                },
                                {
                                    "Year": "2014",
                                    "Trimester": "4",
                                    "District": "Horta-Guinardo",
                                    "AvgPrice": "592.42",
                                    "MaxPrice": "784.44",
                                    "MinPrice": "506.26"
                                },
                                {
                                    "Year": "2014",
                                    "Trimester": "4",
                                    "District": "Les Corts",
                                    "AvgPrice": "1123.57",
                                    "MaxPrice": "1762.06",
                                    "MinPrice": "802.23"
                                },
                                {
                                    "Year": "2014",
                                    "Trimester": "4",
                                    "District": "Nou Barris",
                                    "AvgPrice": "507.06",
                                    "MaxPrice": "620.83",
                                    "MinPrice": "360.94"
                                },
                                {
                                    "Year": "2014",
                                    "Trimester": "4",
                                    "District": "Sant Andreu",
                                    "AvgPrice": "557.39",
                                    "MaxPrice": "647.84",
                                    "MinPrice": "400.76"
                                },
                                {
                                    "Year": "2014",
                                    "Trimester": "4",
                                    "District": "Sant Marti",
                                    "AvgPrice": "701.51",
                                    "MaxPrice": "1130.29",
                                    "MinPrice": "504.19"
                                },
                                {
                                    "Year": "2014",
                                    "Trimester": "4",
                                    "District": "Sants-Montjuic",
                                    "AvgPrice": "618.79",
                                    "MaxPrice": "679.58",
                                    "MinPrice": "574.45"
                                },
                                {
                                    "Year": "2014",
                                    "Trimester": "4",
                                    "District": "Sarria-Sant Gervasi",
                                    "AvgPrice": "1144.72",
                                    "MaxPrice": "1754.44",
                                    "MinPrice": "761.7"
                                },
                                {
                                    "Year": "2015",
                                    "Trimester": "1",
                                    "District": "Ciutat Vella",
                                    "AvgPrice": "659.12",
                                    "MaxPrice": "756.68",
                                    "MinPrice": "581.34"
                                },
                                {
                                    "Year": "2015",
                                    "Trimester": "1",
                                    "District": "Eixample",
                                    "AvgPrice": "792.76",
                                    "MaxPrice": "957.55",
                                    "MinPrice": "679.03"
                                },
                                {
                                    "Year": "2015",
                                    "Trimester": "1",
                                    "District": "Gracia",
                                    "AvgPrice": "687.15",
                                    "MaxPrice": "777.25",
                                    "MinPrice": "576.44"
                                },
                                {
                                    "Year": "2015",
                                    "Trimester": "1",
                                    "District": "Horta-Guinardo",
                                    "AvgPrice": "597.76",
                                    "MaxPrice": "740",
                                    "MinPrice": "485.74"
                                },
                                {
                                    "Year": "2015",
                                    "Trimester": "1",
                                    "District": "Les Corts",
                                    "AvgPrice": "933.73",
                                    "MaxPrice": "1250.83",
                                    "MinPrice": "727.99"
                                },
                                {
                                    "Year": "2015",
                                    "Trimester": "1",
                                    "District": "Nou Barris",
                                    "AvgPrice": "496.87",
                                    "MaxPrice": "626.23",
                                    "MinPrice": "401.17"
                                },
                                {
                                    "Year": "2015",
                                    "Trimester": "1",
                                    "District": "Sant Andreu",
                                    "AvgPrice": "522.59",
                                    "MaxPrice": "665.89",
                                    "MinPrice": "303.8"
                                },
                                {
                                    "Year": "2015",
                                    "Trimester": "1",
                                    "District": "Sant Marti",
                                    "AvgPrice": "704.35",
                                    "MaxPrice": "1093.14",
                                    "MinPrice": "512.89"
                                },
                                {
                                    "Year": "2015",
                                    "Trimester": "1",
                                    "District": "Sants-Montjuic",
                                    "AvgPrice": "608.27",
                                    "MaxPrice": "728.25",
                                    "MinPrice": "492.49"
                                },
                                {
                                    "Year": "2015",
                                    "Trimester": "1",
                                    "District": "Sarria-Sant Gervasi",
                                    "AvgPrice": "1064.93",
                                    "MaxPrice": "1335.71",
                                    "MinPrice": "758.44"
                                },
                                {
                                    "Year": "2015",
                                    "Trimester": "2",
                                    "District": "Ciutat Vella",
                                    "AvgPrice": "669.06",
                                    "MaxPrice": "771.13",
                                    "MinPrice": "598.16"
                                },
                                {
                                    "Year": "2015",
                                    "Trimester": "2",
                                    "District": "Eixample",
                                    "AvgPrice": "813.74",
                                    "MaxPrice": "988.89",
                                    "MinPrice": "704.44"
                                },
                                {
                                    "Year": "2015",
                                    "Trimester": "2",
                                    "District": "Gracia",
                                    "AvgPrice": "665.88",
                                    "MaxPrice": "726.61",
                                    "MinPrice": "539.58"
                                },
                                {
                                    "Year": "2015",
                                    "Trimester": "2",
                                    "District": "Horta-Guinardo",
                                    "AvgPrice": "601.78",
                                    "MaxPrice": "749.23",
                                    "MinPrice": "504.61"
                                },
                                {
                                    "Year": "2015",
                                    "Trimester": "2",
                                    "District": "Les Corts",
                                    "AvgPrice": "1069.41",
                                    "MaxPrice": "1711.45",
                                    "MinPrice": "679.54"
                                },
                                {
                                    "Year": "2015",
                                    "Trimester": "2",
                                    "District": "Nou Barris",
                                    "AvgPrice": "492.31",
                                    "MaxPrice": "583.05",
                                    "MinPrice": "399.19"
                                },
                                {
                                    "Year": "2015",
                                    "Trimester": "2",
                                    "District": "Sant Andreu",
                                    "AvgPrice": "545.32",
                                    "MaxPrice": "650.76",
                                    "MinPrice": "362.94"
                                },
                                {
                                    "Year": "2015",
                                    "Trimester": "2",
                                    "District": "Sant Marti",
                                    "AvgPrice": "729.54",
                                    "MaxPrice": "1116.3",
                                    "MinPrice": "505.97"
                                },
                                {
                                    "Year": "2015",
                                    "Trimester": "2",
                                    "District": "Sants-Montjuic",
                                    "AvgPrice": "580.87",
                                    "MaxPrice": "687.33",
                                    "MinPrice": "381.07"
                                },
                                {
                                    "Year": "2015",
                                    "Trimester": "2",
                                    "District": "Sarria-Sant Gervasi",
                                    "AvgPrice": "1034.22",
                                    "MaxPrice": "1337.79",
                                    "MinPrice": "790.21"
                                },
                                {
                                    "Year": "2015",
                                    "Trimester": "3",
                                    "District": "Ciutat Vella",
                                    "AvgPrice": "696.5",
                                    "MaxPrice": "773",
                                    "MinPrice": "630"
                                },
                                {
                                    "Year": "2015",
                                    "Trimester": "3",
                                    "District": "Eixample",
                                    "AvgPrice": "845.83",
                                    "MaxPrice": "1052",
                                    "MinPrice": "739"
                                },
                                {
                                    "Year": "2015",
                                    "Trimester": "3",
                                    "District": "Gracia",
                                    "AvgPrice": "705.2",
                                    "MaxPrice": "752",
                                    "MinPrice": "576"
                                },
                                {
                                    "Year": "2015",
                                    "Trimester": "3",
                                    "District": "Horta-Guinardo",
                                    "AvgPrice": "568.55",
                                    "MaxPrice": "655",
                                    "MinPrice": "368"
                                },
                                {
                                    "Year": "2015",
                                    "Trimester": "3",
                                    "District": "Les Corts",
                                    "AvgPrice": "1236",
                                    "MaxPrice": "2034",
                                    "MinPrice": "814"
                                },
                                {
                                    "Year": "2015",
                                    "Trimester": "3",
                                    "District": "Nou Barris",
                                    "AvgPrice": "511.8",
                                    "MaxPrice": "581",
                                    "MinPrice": "381"
                                },
                                {
                                    "Year": "2015",
                                    "Trimester": "3",
                                    "District": "Sant Andreu",
                                    "AvgPrice": "543.14",
                                    "MaxPrice": "685",
                                    "MinPrice": "187"
                                },
                                {
                                    "Year": "2015",
                                    "Trimester": "3",
                                    "District": "Sant Marti",
                                    "AvgPrice": "757.6",
                                    "MaxPrice": "1173",
                                    "MinPrice": "516"
                                },
                                {
                                    "Year": "2015",
                                    "Trimester": "3",
                                    "District": "Sants-Montjuic",
                                    "AvgPrice": "653.86",
                                    "MaxPrice": "735",
                                    "MinPrice": "565"
                                },
                                {
                                    "Year": "2015",
                                    "Trimester": "3",
                                    "District": "Sarria-Sant Gervasi",
                                    "AvgPrice": "1152",
                                    "MaxPrice": "1462",
                                    "MinPrice": "840"
                                },
                                {
                                    "Year": "2015",
                                    "Trimester": "4",
                                    "District": "Ciutat Vella",
                                    "AvgPrice": "707.21",
                                    "MaxPrice": "831.13",
                                    "MinPrice": "601.38"
                                },
                                {
                                    "Year": "2015",
                                    "Trimester": "4",
                                    "District": "Eixample",
                                    "AvgPrice": "843",
                                    "MaxPrice": "1035.07",
                                    "MinPrice": "726.93"
                                },
                                {
                                    "Year": "2015",
                                    "Trimester": "4",
                                    "District": "Gracia",
                                    "AvgPrice": "704.95",
                                    "MaxPrice": "751.72",
                                    "MinPrice": "542.71"
                                },
                                {
                                    "Year": "2015",
                                    "Trimester": "4",
                                    "District": "Horta-Guinardo",
                                    "AvgPrice": "614.6",
                                    "MaxPrice": "775.29",
                                    "MinPrice": "527.53"
                                },
                                {
                                    "Year": "2015",
                                    "Trimester": "4",
                                    "District": "Les Corts",
                                    "AvgPrice": "1178.11",
                                    "MaxPrice": "1860.3",
                                    "MinPrice": "764.77"
                                },
                                {
                                    "Year": "2015",
                                    "Trimester": "4",
                                    "District": "Nou Barris",
                                    "AvgPrice": "506.4",
                                    "MaxPrice": "615.06",
                                    "MinPrice": "366.67"
                                },
                                {
                                    "Year": "2015",
                                    "Trimester": "4",
                                    "District": "Sant Andreu",
                                    "AvgPrice": "601.3",
                                    "MaxPrice": "688.36",
                                    "MinPrice": "455.88"
                                },
                                {
                                    "Year": "2015",
                                    "Trimester": "4",
                                    "District": "Sant Marti",
                                    "AvgPrice": "751.63",
                                    "MaxPrice": "1211.01",
                                    "MinPrice": "492.1"
                                },
                                {
                                    "Year": "2015",
                                    "Trimester": "4",
                                    "District": "Sants-Montjuic",
                                    "AvgPrice": "607.15",
                                    "MaxPrice": "658.42",
                                    "MinPrice": "411.36"
                                },
                                {
                                    "Year": "2015",
                                    "Trimester": "4",
                                    "District": "Sarria-Sant Gervasi",
                                    "AvgPrice": "1082.26",
                                    "MaxPrice": "1385.99",
                                    "MinPrice": "808.38"
                                },
                                {
                                    "Year": "2016",
                                    "Trimester": "1",
                                    "District": "Ciutat Vella",
                                    "AvgPrice": "728.94",
                                    "MaxPrice": "893.42",
                                    "MinPrice": "624.42"
                                },
                                {
                                    "Year": "2016",
                                    "Trimester": "1",
                                    "District": "Eixample",
                                    "AvgPrice": "870.25",
                                    "MaxPrice": "1104.26",
                                    "MinPrice": "752.37"
                                },
                                {
                                    "Year": "2016",
                                    "Trimester": "1",
                                    "District": "Gracia",
                                    "AvgPrice": "716.63",
                                    "MaxPrice": "802.69",
                                    "MinPrice": "590.53"
                                },
                                {
                                    "Year": "2016",
                                    "Trimester": "1",
                                    "District": "Horta-Guinardo",
                                    "AvgPrice": "624.58",
                                    "MaxPrice": "749.81",
                                    "MinPrice": "513.53"
                                },
                                {
                                    "Year": "2016",
                                    "Trimester": "1",
                                    "District": "Les Corts",
                                    "AvgPrice": "1081.04",
                                    "MaxPrice": "1572.56",
                                    "MinPrice": "777.86"
                                },
                                {
                                    "Year": "2016",
                                    "Trimester": "1",
                                    "District": "Nou Barris",
                                    "AvgPrice": "499.44",
                                    "MaxPrice": "619.85",
                                    "MinPrice": "344.26"
                                },
                                {
                                    "Year": "2016",
                                    "Trimester": "1",
                                    "District": "Sant Andreu",
                                    "AvgPrice": "514.15",
                                    "MaxPrice": "665.34",
                                    "MinPrice": "142.34"
                                },
                                {
                                    "Year": "2016",
                                    "Trimester": "1",
                                    "District": "Sant Marti",
                                    "AvgPrice": "751.62",
                                    "MaxPrice": "1136",
                                    "MinPrice": "506.7"
                                },
                                {
                                    "Year": "2016",
                                    "Trimester": "1",
                                    "District": "Sants-Montjuic",
                                    "AvgPrice": "583.9",
                                    "MaxPrice": "664.66",
                                    "MinPrice": "360.88"
                                },
                                {
                                    "Year": "2016",
                                    "Trimester": "1",
                                    "District": "Sarria-Sant Gervasi",
                                    "AvgPrice": "1107.04",
                                    "MaxPrice": "1380.68",
                                    "MinPrice": "827.82"
                                },
                                {
                                    "Year": "2016",
                                    "Trimester": "2",
                                    "District": "Ciutat Vella",
                                    "AvgPrice": "725.37",
                                    "MaxPrice": "806.24",
                                    "MinPrice": "659.35"
                                },
                                {
                                    "Year": "2016",
                                    "Trimester": "2",
                                    "District": "Eixample",
                                    "AvgPrice": "877.55",
                                    "MaxPrice": "1120.4",
                                    "MinPrice": "739.86"
                                },
                                {
                                    "Year": "2016",
                                    "Trimester": "2",
                                    "District": "Gracia",
                                    "AvgPrice": "735.12",
                                    "MaxPrice": "780.36",
                                    "MinPrice": "592.76"
                                },
                                {
                                    "Year": "2016",
                                    "Trimester": "2",
                                    "District": "Horta-Guinardo",
                                    "AvgPrice": "632.81",
                                    "MaxPrice": "786.32",
                                    "MinPrice": "544.56"
                                },
                                {
                                    "Year": "2016",
                                    "Trimester": "2",
                                    "District": "Les Corts",
                                    "AvgPrice": "1131.39",
                                    "MaxPrice": "1660.43",
                                    "MinPrice": "821.2"
                                },
                                {
                                    "Year": "2016",
                                    "Trimester": "2",
                                    "District": "Nou Barris",
                                    "AvgPrice": "532.02",
                                    "MaxPrice": "621.43",
                                    "MinPrice": "427.97"
                                },
                                {
                                    "Year": "2016",
                                    "Trimester": "2",
                                    "District": "Sant Andreu",
                                    "AvgPrice": "615.84",
                                    "MaxPrice": "704.45",
                                    "MinPrice": "483.22"
                                },
                                {
                                    "Year": "2016",
                                    "Trimester": "2",
                                    "District": "Sant Marti",
                                    "AvgPrice": "773.28",
                                    "MaxPrice": "1151.48",
                                    "MinPrice": "521.08"
                                },
                                {
                                    "Year": "2016",
                                    "Trimester": "2",
                                    "District": "Sants-Montjuic",
                                    "AvgPrice": "668.72",
                                    "MaxPrice": "751.69",
                                    "MinPrice": "548.51"
                                },
                                {
                                    "Year": "2016",
                                    "Trimester": "2",
                                    "District": "Sarria-Sant Gervasi",
                                    "AvgPrice": "1175.58",
                                    "MaxPrice": "1560.7",
                                    "MinPrice": "891.63"
                                },
                                {
                                    "Year": "2016",
                                    "Trimester": "3",
                                    "District": "Ciutat Vella",
                                    "AvgPrice": "761",
                                    "MaxPrice": "851.63",
                                    "MinPrice": "666.17"
                                },
                                {
                                    "Year": "2016",
                                    "Trimester": "3",
                                    "District": "Eixample",
                                    "AvgPrice": "928.63",
                                    "MaxPrice": "1143.98",
                                    "MinPrice": "799.38"
                                },
                                {
                                    "Year": "2016",
                                    "Trimester": "3",
                                    "District": "Gracia",
                                    "AvgPrice": "790.99",
                                    "MaxPrice": "855.89",
                                    "MinPrice": "635.15"
                                },
                                {
                                    "Year": "2016",
                                    "Trimester": "3",
                                    "District": "Horta-Guinardo",
                                    "AvgPrice": "652.83",
                                    "MaxPrice": "796.92",
                                    "MinPrice": "557.55"
                                },
                                {
                                    "Year": "2016",
                                    "Trimester": "3",
                                    "District": "Les Corts",
                                    "AvgPrice": "1177.28",
                                    "MaxPrice": "1689.6",
                                    "MinPrice": "892.28"
                                },
                                {
                                    "Year": "2016",
                                    "Trimester": "3",
                                    "District": "Nou Barris",
                                    "AvgPrice": "546.19",
                                    "MaxPrice": "648.75",
                                    "MinPrice": "373.14"
                                },
                                {
                                    "Year": "2016",
                                    "Trimester": "3",
                                    "District": "Sant Andreu",
                                    "AvgPrice": "572.52",
                                    "MaxPrice": "712.32",
                                    "MinPrice": "256.45"
                                },
                                {
                                    "Year": "2016",
                                    "Trimester": "3",
                                    "District": "Sant Marti",
                                    "AvgPrice": "824.95",
                                    "MaxPrice": "1268.48",
                                    "MinPrice": "556.45"
                                },
                                {
                                    "Year": "2016",
                                    "Trimester": "3",
                                    "District": "Sants-Montjuic",
                                    "AvgPrice": "695.31",
                                    "MaxPrice": "764.38",
                                    "MinPrice": "577.47"
                                },
                                {
                                    "Year": "2016",
                                    "Trimester": "3",
                                    "District": "Sarria-Sant Gervasi",
                                    "AvgPrice": "1222.17",
                                    "MaxPrice": "1619.04",
                                    "MinPrice": "876.77"
                                },
                                {
                                    "Year": "2016",
                                    "Trimester": "4",
                                    "District": "Ciutat Vella",
                                    "AvgPrice": "792.79",
                                    "MaxPrice": "913.96",
                                    "MinPrice": "686.31"
                                },
                                {
                                    "Year": "2016",
                                    "Trimester": "4",
                                    "District": "Eixample",
                                    "AvgPrice": "936.37",
                                    "MaxPrice": "1174.38",
                                    "MinPrice": "806.4"
                                },
                                {
                                    "Year": "2016",
                                    "Trimester": "4",
                                    "District": "Gracia",
                                    "AvgPrice": "782.05",
                                    "MaxPrice": "829.23",
                                    "MinPrice": "653.69"
                                },
                                {
                                    "Year": "2016",
                                    "Trimester": "4",
                                    "District": "Horta-Guinardo",
                                    "AvgPrice": "688.22",
                                    "MaxPrice": "778.67",
                                    "MinPrice": "597.13"
                                },
                                {
                                    "Year": "2016",
                                    "Trimester": "4",
                                    "District": "Les Corts",
                                    "AvgPrice": "1180.7",
                                    "MaxPrice": "1692.2",
                                    "MinPrice": "866.43"
                                },
                                {
                                    "Year": "2016",
                                    "Trimester": "4",
                                    "District": "Nou Barris",
                                    "AvgPrice": "542.04",
                                    "MaxPrice": "684.2",
                                    "MinPrice": "301.82"
                                },
                                {
                                    "Year": "2016",
                                    "Trimester": "4",
                                    "District": "Sant Andreu",
                                    "AvgPrice": "656.43",
                                    "MaxPrice": "768.66",
                                    "MinPrice": "552.81"
                                },
                                {
                                    "Year": "2016",
                                    "Trimester": "4",
                                    "District": "Sant Marti",
                                    "AvgPrice": "851.48",
                                    "MaxPrice": "1285.61",
                                    "MinPrice": "571.6"
                                },
                                {
                                    "Year": "2016",
                                    "Trimester": "4",
                                    "District": "Sants-Montjuic",
                                    "AvgPrice": "712.96",
                                    "MaxPrice": "786.35",
                                    "MinPrice": "613.16"
                                },
                                {
                                    "Year": "2016",
                                    "Trimester": "4",
                                    "District": "Sarria-Sant Gervasi",
                                    "AvgPrice": "1238.67",
                                    "MaxPrice": "1490.72",
                                    "MinPrice": "904.17"
                                },
                                {
                                    "Year": "2017",
                                    "Trimester": "1",
                                    "District": "Ciutat Vella",
                                    "AvgPrice": "814.58",
                                    "MaxPrice": "905.26",
                                    "MinPrice": "722.78"
                                },
                                {
                                    "Year": "2017",
                                    "Trimester": "1",
                                    "District": "Eixample",
                                    "AvgPrice": "942.79",
                                    "MaxPrice": "1151.09",
                                    "MinPrice": "847.04"
                                },
                                {
                                    "Year": "2017",
                                    "Trimester": "1",
                                    "District": "Gracia",
                                    "AvgPrice": "830.35",
                                    "MaxPrice": "946.59",
                                    "MinPrice": "687.42"
                                },
                                {
                                    "Year": "2017",
                                    "Trimester": "1",
                                    "District": "Horta-Guinardo",
                                    "AvgPrice": "700.25",
                                    "MaxPrice": "816.05",
                                    "MinPrice": "597.09"
                                },
                                {
                                    "Year": "2017",
                                    "Trimester": "1",
                                    "District": "Les Corts",
                                    "AvgPrice": "1229.78",
                                    "MaxPrice": "1856.57",
                                    "MinPrice": "896.45"
                                },
                                {
                                    "Year": "2017",
                                    "Trimester": "1",
                                    "District": "Nou Barris",
                                    "AvgPrice": "581.4",
                                    "MaxPrice": "689.62",
                                    "MinPrice": "418.07"
                                },
                                {
                                    "Year": "2017",
                                    "Trimester": "1",
                                    "District": "Sant Andreu",
                                    "AvgPrice": "636.22",
                                    "MaxPrice": "716.78",
                                    "MinPrice": "497.84"
                                },
                                {
                                    "Year": "2017",
                                    "Trimester": "1",
                                    "District": "Sant Marti",
                                    "AvgPrice": "851.62",
                                    "MaxPrice": "1148.2",
                                    "MinPrice": "588.9"
                                },
                                {
                                    "Year": "2017",
                                    "Trimester": "1",
                                    "District": "Sants-Montjuic",
                                    "AvgPrice": "723.65",
                                    "MaxPrice": "806.34",
                                    "MinPrice": "680.17"
                                },
                                {
                                    "Year": "2017",
                                    "Trimester": "1",
                                    "District": "Sarria-Sant Gervasi",
                                    "AvgPrice": "1236.7",
                                    "MaxPrice": "1516.52",
                                    "MinPrice": "913.45"
                                },
                                {
                                    "Year": "2017",
                                    "Trimester": "2",
                                    "District": "Ciutat Vella",
                                    "AvgPrice": "837.71",
                                    "MaxPrice": "968.16",
                                    "MinPrice": "714.29"
                                },
                                {
                                    "Year": "2017",
                                    "Trimester": "2",
                                    "District": "Eixample",
                                    "AvgPrice": "975.53",
                                    "MaxPrice": "1218.18",
                                    "MinPrice": "867.97"
                                },
                                {
                                    "Year": "2017",
                                    "Trimester": "2",
                                    "District": "Gracia",
                                    "AvgPrice": "839.96",
                                    "MaxPrice": "917.84",
                                    "MinPrice": "701.29"
                                },
                                {
                                    "Year": "2017",
                                    "Trimester": "2",
                                    "District": "Horta-Guinardo",
                                    "AvgPrice": "706.52",
                                    "MaxPrice": "819.11",
                                    "MinPrice": "597.58"
                                },
                                {
                                    "Year": "2017",
                                    "Trimester": "2",
                                    "District": "Les Corts",
                                    "AvgPrice": "1185.17",
                                    "MaxPrice": "1666.63",
                                    "MinPrice": "882.05"
                                },
                                {
                                    "Year": "2017",
                                    "Trimester": "2",
                                    "District": "Nou Barris",
                                    "AvgPrice": "552.83",
                                    "MaxPrice": "699.81",
                                    "MinPrice": "302.52"
                                },
                                {
                                    "Year": "2017",
                                    "Trimester": "2",
                                    "District": "Sant Andreu",
                                    "AvgPrice": "662.59",
                                    "MaxPrice": "783.88",
                                    "MinPrice": "434.91"
                                },
                                {
                                    "Year": "2017",
                                    "Trimester": "2",
                                    "District": "Sant Marti",
                                    "AvgPrice": "859.5",
                                    "MaxPrice": "1345.63",
                                    "MinPrice": "606.61"
                                },
                                {
                                    "Year": "2017",
                                    "Trimester": "2",
                                    "District": "Sants-Montjuic",
                                    "AvgPrice": "747.57",
                                    "MaxPrice": "785.02",
                                    "MinPrice": "634.28"
                                },
                                {
                                    "Year": "2017",
                                    "Trimester": "2",
                                    "District": "Sarria-Sant Gervasi",
                                    "AvgPrice": "1266.36",
                                    "MaxPrice": "1646.76",
                                    "MinPrice": "902.42"
                                },
                                {
                                    "Year": "2017",
                                    "Trimester": "3",
                                    "District": "Ciutat Vella",
                                    "AvgPrice": "869.67",
                                    "MaxPrice": "1028.49",
                                    "MinPrice": "758.18"
                                },
                                {
                                    "Year": "2017",
                                    "Trimester": "3",
                                    "District": "Eixample",
                                    "AvgPrice": "998.37",
                                    "MaxPrice": "1179.11",
                                    "MinPrice": "906.78"
                                },
                                {
                                    "Year": "2017",
                                    "Trimester": "3",
                                    "District": "Gracia",
                                    "AvgPrice": "852.83",
                                    "MaxPrice": "912.51",
                                    "MinPrice": "799.44"
                                },
                                {
                                    "Year": "2017",
                                    "Trimester": "3",
                                    "District": "Horta-Guinardo",
                                    "AvgPrice": "739.14",
                                    "MaxPrice": "922.75",
                                    "MinPrice": "610.13"
                                },
                                {
                                    "Year": "2017",
                                    "Trimester": "3",
                                    "District": "Les Corts",
                                    "AvgPrice": "1288.9",
                                    "MaxPrice": "1882.42",
                                    "MinPrice": "970.71"
                                },
                                {
                                    "Year": "2017",
                                    "Trimester": "3",
                                    "District": "Nou Barris",
                                    "AvgPrice": "596.91",
                                    "MaxPrice": "750.43",
                                    "MinPrice": "423.09"
                                },
                                {
                                    "Year": "2017",
                                    "Trimester": "3",
                                    "District": "Sant Andreu",
                                    "AvgPrice": "695.78",
                                    "MaxPrice": "790.19",
                                    "MinPrice": "532.33"
                                },
                                {
                                    "Year": "2017",
                                    "Trimester": "3",
                                    "District": "Sant Marti",
                                    "AvgPrice": "872.58",
                                    "MaxPrice": "1189.26",
                                    "MinPrice": "625.13"
                                },
                                {
                                    "Year": "2017",
                                    "Trimester": "3",
                                    "District": "Sants-Montjuic",
                                    "AvgPrice": "791.11",
                                    "MaxPrice": "861.69",
                                    "MinPrice": "711.93"
                                },
                                {
                                    "Year": "2017",
                                    "Trimester": "3",
                                    "District": "Sarria-Sant Gervasi",
                                    "AvgPrice": "1357.68",
                                    "MaxPrice": "1757",
                                    "MinPrice": "962.41"
                                },
                                {
                                    "Year": "2017",
                                    "Trimester": "4",
                                    "District": "Ciutat Vella",
                                    "AvgPrice": "862.67",
                                    "MaxPrice": "993.16",
                                    "MinPrice": "766.03"
                                },
                                {
                                    "Year": "2017",
                                    "Trimester": "4",
                                    "District": "Eixample",
                                    "AvgPrice": "992.83",
                                    "MaxPrice": "1225.08",
                                    "MinPrice": "877.02"
                                },
                                {
                                    "Year": "2017",
                                    "Trimester": "4",
                                    "District": "Gracia",
                                    "AvgPrice": "814.15",
                                    "MaxPrice": "879.85",
                                    "MinPrice": "711.57"
                                },
                                {
                                    "Year": "2017",
                                    "Trimester": "4",
                                    "District": "Horta-Guinardo",
                                    "AvgPrice": "727.57",
                                    "MaxPrice": "865.42",
                                    "MinPrice": "609.11"
                                },
                                {
                                    "Year": "2017",
                                    "Trimester": "4",
                                    "District": "Les Corts",
                                    "AvgPrice": "1239.02",
                                    "MaxPrice": "1737.92",
                                    "MinPrice": "935.38"
                                },
                                {
                                    "Year": "2017",
                                    "Trimester": "4",
                                    "District": "Nou Barris",
                                    "AvgPrice": "603.72",
                                    "MaxPrice": "723.34",
                                    "MinPrice": "425.51"
                                },
                                {
                                    "Year": "2017",
                                    "Trimester": "4",
                                    "District": "Sant Andreu",
                                    "AvgPrice": "690.84",
                                    "MaxPrice": "805.1",
                                    "MinPrice": "535.92"
                                },
                                {
                                    "Year": "2017",
                                    "Trimester": "4",
                                    "District": "Sant Marti",
                                    "AvgPrice": "894.57",
                                    "MaxPrice": "1349.82",
                                    "MinPrice": "621.32"
                                },
                                {
                                    "Year": "2017",
                                    "Trimester": "4",
                                    "District": "Sants-Montjuic",
                                    "AvgPrice": "779.06",
                                    "MaxPrice": "827.36",
                                    "MinPrice": "728.07"
                                },
                                {
                                    "Year": "2017",
                                    "Trimester": "4",
                                    "District": "Sarria-Sant Gervasi",
                                    "AvgPrice": "1264.91",
                                    "MaxPrice": "1588.53",
                                    "MinPrice": "938.2"
                                },
                                {
                                    "Year": "2018",
                                    "Trimester": "1",
                                    "District": "Ciutat Vella",
                                    "AvgPrice": "896.36",
                                    "MaxPrice": "998.4",
                                    "MinPrice": "792.74"
                                },
                                {
                                    "Year": "2018",
                                    "Trimester": "1",
                                    "District": "Eixample",
                                    "AvgPrice": "983.8",
                                    "MaxPrice": "1191.43",
                                    "MinPrice": "883.75"
                                },
                                {
                                    "Year": "2018",
                                    "Trimester": "1",
                                    "District": "Gracia",
                                    "AvgPrice": "845.46",
                                    "MaxPrice": "899.65",
                                    "MinPrice": "741.23"
                                },
                                {
                                    "Year": "2018",
                                    "Trimester": "1",
                                    "District": "Horta-Guinardo",
                                    "AvgPrice": "742.88",
                                    "MaxPrice": "874.2",
                                    "MinPrice": "634.75"
                                },
                                {
                                    "Year": "2018",
                                    "Trimester": "1",
                                    "District": "Les Corts",
                                    "AvgPrice": "1250.34",
                                    "MaxPrice": "1799.91",
                                    "MinPrice": "948.77"
                                },
                                {
                                    "Year": "2018",
                                    "Trimester": "1",
                                    "District": "Nou Barris",
                                    "AvgPrice": "642.54",
                                    "MaxPrice": "720.9",
                                    "MinPrice": "507.16"
                                },
                                {
                                    "Year": "2018",
                                    "Trimester": "1",
                                    "District": "Sant Andreu",
                                    "AvgPrice": "711.87",
                                    "MaxPrice": "790.2",
                                    "MinPrice": "589.02"
                                },
                                {
                                    "Year": "2018",
                                    "Trimester": "1",
                                    "District": "Sant Marti",
                                    "AvgPrice": "893.31",
                                    "MaxPrice": "1272.26",
                                    "MinPrice": "682.32"
                                },
                                {
                                    "Year": "2018",
                                    "Trimester": "1",
                                    "District": "Sants-Montjuic",
                                    "AvgPrice": "783.59",
                                    "MaxPrice": "842.32",
                                    "MinPrice": "751.65"
                                },
                                {
                                    "Year": "2018",
                                    "Trimester": "1",
                                    "District": "Sarria-Sant Gervasi",
                                    "AvgPrice": "1210.52",
                                    "MaxPrice": "1613.41",
                                    "MinPrice": "895.7"
                                },
                                {
                                    "Year": "2018",
                                    "Trimester": "2",
                                    "District": "Ciutat Vella",
                                    "AvgPrice": "940",
                                    "MaxPrice": "1024.29",
                                    "MinPrice": "820.88"
                                },
                                {
                                    "Year": "2018",
                                    "Trimester": "2",
                                    "District": "Eixample",
                                    "AvgPrice": "1010.09",
                                    "MaxPrice": "1263.08",
                                    "MinPrice": "893.43"
                                },
                                {
                                    "Year": "2018",
                                    "Trimester": "2",
                                    "District": "Gracia",
                                    "AvgPrice": "867.51",
                                    "MaxPrice": "939.03",
                                    "MinPrice": "716.25"
                                },
                                {
                                    "Year": "2018",
                                    "Trimester": "2",
                                    "District": "Horta-Guinardo",
                                    "AvgPrice": "735.99",
                                    "MaxPrice": "864.72",
                                    "MinPrice": "637.17"
                                },
                                {
                                    "Year": "2018",
                                    "Trimester": "2",
                                    "District": "Les Corts",
                                    "AvgPrice": "1187.1",
                                    "MaxPrice": "1563.31",
                                    "MinPrice": "959.26"
                                },
                                {
                                    "Year": "2018",
                                    "Trimester": "2",
                                    "District": "Nou Barris",
                                    "AvgPrice": "623.42",
                                    "MaxPrice": "726.89",
                                    "MinPrice": "434.52"
                                },
                                {
                                    "Year": "2018",
                                    "Trimester": "2",
                                    "District": "Sant Andreu",
                                    "AvgPrice": "730.97",
                                    "MaxPrice": "798.39",
                                    "MinPrice": "598.29"
                                },
                                {
                                    "Year": "2018",
                                    "Trimester": "2",
                                    "District": "Sant Marti",
                                    "AvgPrice": "952.25",
                                    "MaxPrice": "1371.14",
                                    "MinPrice": "649.17"
                                },
                                {
                                    "Year": "2018",
                                    "Trimester": "2",
                                    "District": "Sants-Montjuic",
                                    "AvgPrice": "781.13",
                                    "MaxPrice": "834.68",
                                    "MinPrice": "719.33"
                                },
                                {
                                    "Year": "2018",
                                    "Trimester": "2",
                                    "District": "Sarria-Sant Gervasi",
                                    "AvgPrice": "1208.23",
                                    "MaxPrice": "1467.07",
                                    "MinPrice": "860.13"
                                },
                                {
                                    "Year": "2018",
                                    "Trimester": "3",
                                    "District": "Ciutat Vella",
                                    "AvgPrice": "930.51",
                                    "MaxPrice": "1012.49",
                                    "MinPrice": "849.32"
                                },
                                {
                                    "Year": "2018",
                                    "Trimester": "3",
                                    "District": "Eixample",
                                    "AvgPrice": "1038.47",
                                    "MaxPrice": "1216.7",
                                    "MinPrice": "934.89"
                                },
                                {
                                    "Year": "2018",
                                    "Trimester": "3",
                                    "District": "Gracia",
                                    "AvgPrice": "876.14",
                                    "MaxPrice": "924.81",
                                    "MinPrice": "756.36"
                                },
                                {
                                    "Year": "2018",
                                    "Trimester": "3",
                                    "District": "Horta-Guinardo",
                                    "AvgPrice": "764.27",
                                    "MaxPrice": "876.58",
                                    "MinPrice": "654.77"
                                },
                                {
                                    "Year": "2018",
                                    "Trimester": "3",
                                    "District": "Les Corts",
                                    "AvgPrice": "1313.6",
                                    "MaxPrice": "1849.52",
                                    "MinPrice": "1013.28"
                                },
                                {
                                    "Year": "2018",
                                    "Trimester": "3",
                                    "District": "Nou Barris",
                                    "AvgPrice": "660.98",
                                    "MaxPrice": "742.82",
                                    "MinPrice": "514.34"
                                },
                                {
                                    "Year": "2018",
                                    "Trimester": "3",
                                    "District": "Sant Andreu",
                                    "AvgPrice": "743.88",
                                    "MaxPrice": "823.74",
                                    "MinPrice": "597.93"
                                },
                                {
                                    "Year": "2018",
                                    "Trimester": "3",
                                    "District": "Sant Marti",
                                    "AvgPrice": "884.76",
                                    "MaxPrice": "1284.3",
                                    "MinPrice": "699.06"
                                },
                                {
                                    "Year": "2018",
                                    "Trimester": "3",
                                    "District": "Sants-Montjuic",
                                    "AvgPrice": "819.55",
                                    "MaxPrice": "871.41",
                                    "MinPrice": "755.18"
                                },
                                {
                                    "Year": "2018",
                                    "Trimester": "3",
                                    "District": "Sarria-Sant Gervasi",
                                    "AvgPrice": "1335.03",
                                    "MaxPrice": "1746.01",
                                    "MinPrice": "1021.27"
                                },
                                {
                                    "Year": "2018",
                                    "Trimester": "4",
                                    "District": "Ciutat Vella",
                                    "AvgPrice": "949.56",
                                    "MaxPrice": "1057.26",
                                    "MinPrice": "827.27"
                                },
                                {
                                    "Year": "2018",
                                    "Trimester": "4",
                                    "District": "Eixample",
                                    "AvgPrice": "1065.95",
                                    "MaxPrice": "1340.38",
                                    "MinPrice": "930.02"
                                },
                                {
                                    "Year": "2018",
                                    "Trimester": "4",
                                    "District": "Gracia",
                                    "AvgPrice": "904.67",
                                    "MaxPrice": "971.51",
                                    "MinPrice": "748.9"
                                },
                                {
                                    "Year": "2018",
                                    "Trimester": "4",
                                    "District": "Horta-Guinardo",
                                    "AvgPrice": "760.53",
                                    "MaxPrice": "876.65",
                                    "MinPrice": "653.21"
                                },
                                {
                                    "Year": "2018",
                                    "Trimester": "4",
                                    "District": "Les Corts",
                                    "AvgPrice": "1202.27",
                                    "MaxPrice": "1615.31",
                                    "MinPrice": "960.03"
                                },
                                {
                                    "Year": "2018",
                                    "Trimester": "4",
                                    "District": "Nou Barris",
                                    "AvgPrice": "671.41",
                                    "MaxPrice": "782.95",
                                    "MinPrice": "514.52"
                                },
                                {
                                    "Year": "2018",
                                    "Trimester": "4",
                                    "District": "Sant Andreu",
                                    "AvgPrice": "737.08",
                                    "MaxPrice": "840.01",
                                    "MinPrice": "564.56"
                                },
                                {
                                    "Year": "2018",
                                    "Trimester": "4",
                                    "District": "Sant Marti",
                                    "AvgPrice": "948.72",
                                    "MaxPrice": "1307.79",
                                    "MinPrice": "711.67"
                                },
                                {
                                    "Year": "2018",
                                    "Trimester": "4",
                                    "District": "Sants-Montjuic",
                                    "AvgPrice": "814.96",
                                    "MaxPrice": "834.64",
                                    "MinPrice": "778.52"
                                },
                                {
                                    "Year": "2018",
                                    "Trimester": "4",
                                    "District": "Sarria-Sant Gervasi",
                                    "AvgPrice": "1263.11",
                                    "MaxPrice": "1567.91",
                                    "MinPrice": "898.33"
                                },
                                {
                                    "Year": "2019",
                                    "Trimester": "1",
                                    "District": "Ciutat Vella",
                                    "AvgPrice": "941.25",
                                    "MaxPrice": "1060.9",
                                    "MinPrice": "822.6"
                                },
                                {
                                    "Year": "2019",
                                    "Trimester": "1",
                                    "District": "Eixample",
                                    "AvgPrice": "1046.72",
                                    "MaxPrice": "1269.1",
                                    "MinPrice": "936.3"
                                },
                                {
                                    "Year": "2019",
                                    "Trimester": "1",
                                    "District": "Gracia",
                                    "AvgPrice": "882.44",
                                    "MaxPrice": "937.3",
                                    "MinPrice": "750.6"
                                },
                                {
                                    "Year": "2019",
                                    "Trimester": "1",
                                    "District": "Horta-Guinardo",
                                    "AvgPrice": "779.84",
                                    "MaxPrice": "870.2",
                                    "MinPrice": "670.6"
                                },
                                {
                                    "Year": "2019",
                                    "Trimester": "1",
                                    "District": "Les Corts",
                                    "AvgPrice": "1247",
                                    "MaxPrice": "1732.5",
                                    "MinPrice": "938.5"
                                },
                                {
                                    "Year": "2019",
                                    "Trimester": "1",
                                    "District": "Nou Barris",
                                    "AvgPrice": "684.39",
                                    "MaxPrice": "791.9",
                                    "MinPrice": "575.4"
                                },
                                {
                                    "Year": "2019",
                                    "Trimester": "1",
                                    "District": "Sant Andreu",
                                    "AvgPrice": "756.25",
                                    "MaxPrice": "855.3",
                                    "MinPrice": "601.2"
                                },
                                {
                                    "Year": "2019",
                                    "Trimester": "1",
                                    "District": "Sant Marti",
                                    "AvgPrice": "937.14",
                                    "MaxPrice": "1304",
                                    "MinPrice": "694.8"
                                },
                                {
                                    "Year": "2019",
                                    "Trimester": "1",
                                    "District": "Sants-Montjuic",
                                    "AvgPrice": "819.84",
                                    "MaxPrice": "873",
                                    "MinPrice": "714.9"
                                },
                                {
                                    "Year": "2019",
                                    "Trimester": "1",
                                    "District": "Sarria-Sant Gervasi",
                                    "AvgPrice": "1281.42",
                                    "MaxPrice": "1645.9",
                                    "MinPrice": "1057.1"
                                },
                                {
                                    "Year": "2019",
                                    "Trimester": "2",
                                    "District": "Ciutat Vella",
                                    "AvgPrice": "978.3",
                                    "MaxPrice": "1112.1",
                                    "MinPrice": "867"
                                },
                                {
                                    "Year": "2019",
                                    "Trimester": "2",
                                    "District": "Eixample",
                                    "AvgPrice": "1061.23",
                                    "MaxPrice": "1277.9",
                                    "MinPrice": "942.9"
                                },
                                {
                                    "Year": "2019",
                                    "Trimester": "2",
                                    "District": "Gracia",
                                    "AvgPrice": "935.48",
                                    "MaxPrice": "1028.9",
                                    "MinPrice": "819.8"
                                },
                                {
                                    "Year": "2019",
                                    "Trimester": "2",
                                    "District": "Horta-Guinardo",
                                    "AvgPrice": "795.78",
                                    "MaxPrice": "1044",
                                    "MinPrice": "666.9"
                                },
                                {
                                    "Year": "2019",
                                    "Trimester": "2",
                                    "District": "Les Corts",
                                    "AvgPrice": "1268.27",
                                    "MaxPrice": "1746.7",
                                    "MinPrice": "973"
                                },
                                {
                                    "Year": "2019",
                                    "Trimester": "2",
                                    "District": "Nou Barris",
                                    "AvgPrice": "688.32",
                                    "MaxPrice": "775.3",
                                    "MinPrice": "559.8"
                                },
                                {
                                    "Year": "2019",
                                    "Trimester": "2",
                                    "District": "Sant Andreu",
                                    "AvgPrice": "750.32",
                                    "MaxPrice": "836.9",
                                    "MinPrice": "614.7"
                                },
                                {
                                    "Year": "2019",
                                    "Trimester": "2",
                                    "District": "Sant Marti",
                                    "AvgPrice": "1001.65",
                                    "MaxPrice": "1444.6",
                                    "MinPrice": "798.1"
                                },
                                {
                                    "Year": "2019",
                                    "Trimester": "2",
                                    "District": "Sants-Montjuic",
                                    "AvgPrice": "834.33",
                                    "MaxPrice": "867.5",
                                    "MinPrice": "753.1"
                                },
                                {
                                    "Year": "2019",
                                    "Trimester": "2",
                                    "District": "Sarria-Sant Gervasi",
                                    "AvgPrice": "1307.38",
                                    "MaxPrice": "1602.5",
                                    "MinPrice": "1115.7"
                                },
                                {
                                    "Year": "2019",
                                    "Trimester": "3",
                                    "District": "Ciutat Vella",
                                    "AvgPrice": "960.83",
                                    "MaxPrice": "1082.4",
                                    "MinPrice": "869.1"
                                },
                                {
                                    "Year": "2019",
                                    "Trimester": "3",
                                    "District": "Eixample",
                                    "AvgPrice": "1103.8",
                                    "MaxPrice": "1348.9",
                                    "MinPrice": "979.6"
                                },
                                {
                                    "Year": "2019",
                                    "Trimester": "3",
                                    "District": "Gracia",
                                    "AvgPrice": "936.34",
                                    "MaxPrice": "996.3",
                                    "MinPrice": "813.8"
                                },
                                {
                                    "Year": "2019",
                                    "Trimester": "3",
                                    "District": "Horta-Guinardo",
                                    "AvgPrice": "800.86",
                                    "MaxPrice": "902.2",
                                    "MinPrice": "703.3"
                                },
                                {
                                    "Year": "2019",
                                    "Trimester": "3",
                                    "District": "Les Corts",
                                    "AvgPrice": "1368.1",
                                    "MaxPrice": "1950.1",
                                    "MinPrice": "1040.3"
                                },
                                {
                                    "Year": "2019",
                                    "Trimester": "3",
                                    "District": "Nou Barris",
                                    "AvgPrice": "682.21",
                                    "MaxPrice": "792.2",
                                    "MinPrice": "532.6"
                                },
                                {
                                    "Year": "2019",
                                    "Trimester": "3",
                                    "District": "Sant Andreu",
                                    "AvgPrice": "754.47",
                                    "MaxPrice": "864.6",
                                    "MinPrice": "569.9"
                                },
                                {
                                    "Year": "2019",
                                    "Trimester": "3",
                                    "District": "Sant Marti",
                                    "AvgPrice": "982.89",
                                    "MaxPrice": "1409.4",
                                    "MinPrice": "728.3"
                                },
                                {
                                    "Year": "2019",
                                    "Trimester": "3",
                                    "District": "Sants-Montjuic",
                                    "AvgPrice": "853.93",
                                    "MaxPrice": "888.3",
                                    "MinPrice": "790.1"
                                },
                                {
                                    "Year": "2019",
                                    "Trimester": "3",
                                    "District": "Sarria-Sant Gervasi",
                                    "AvgPrice": "1369.87",
                                    "MaxPrice": "1614.8",
                                    "MinPrice": "1070.2"
                                },
                                {
                                    "Year": "2019",
                                    "Trimester": "4",
                                    "District": "Ciutat Vella",
                                    "AvgPrice": "961",
                                    "MaxPrice": "1139.7",
                                    "MinPrice": "844.9"
                                },
                                {
                                    "Year": "2019",
                                    "Trimester": "4",
                                    "District": "Eixample",
                                    "AvgPrice": "1111.18",
                                    "MaxPrice": "1333",
                                    "MinPrice": "980"
                                },
                                {
                                    "Year": "2019",
                                    "Trimester": "4",
                                    "District": "Gracia",
                                    "AvgPrice": "950.44",
                                    "MaxPrice": "1017.6",
                                    "MinPrice": "817.5"
                                },
                                {
                                    "Year": "2019",
                                    "Trimester": "4",
                                    "District": "Horta-Guinardo",
                                    "AvgPrice": "809.08",
                                    "MaxPrice": "954.5",
                                    "MinPrice": "700.2"
                                },
                                {
                                    "Year": "2019",
                                    "Trimester": "4",
                                    "District": "Les Corts",
                                    "AvgPrice": "1405.9",
                                    "MaxPrice": "2023.4",
                                    "MinPrice": "1078.1"
                                },
                                {
                                    "Year": "2019",
                                    "Trimester": "4",
                                    "District": "Nou Barris",
                                    "AvgPrice": "688.08",
                                    "MaxPrice": "801.8",
                                    "MinPrice": "561.4"
                                },
                                {
                                    "Year": "2019",
                                    "Trimester": "4",
                                    "District": "Sant Andreu",
                                    "AvgPrice": "776.27",
                                    "MaxPrice": "856.8",
                                    "MinPrice": "622.3"
                                },
                                {
                                    "Year": "2019",
                                    "Trimester": "4",
                                    "District": "Sant Marti",
                                    "AvgPrice": "1003.41",
                                    "MaxPrice": "1498.6",
                                    "MinPrice": "693.8"
                                },
                                {
                                    "Year": "2019",
                                    "Trimester": "4",
                                    "District": "Sants-Montjuic",
                                    "AvgPrice": "791.18",
                                    "MaxPrice": "884.8",
                                    "MinPrice": "350.5"
                                },
                                {
                                    "Year": "2019",
                                    "Trimester": "4",
                                    "District": "Sarria-Sant Gervasi",
                                    "AvgPrice": "1380.12",
                                    "MaxPrice": "1745",
                                    "MinPrice": "1099.8"
                                },
                                {
                                    "Year": "2020",
                                    "Trimester": "1",
                                    "District": "Ciutat Vella",
                                    "AvgPrice": "976.05",
                                    "MaxPrice": "1110.2",
                                    "MinPrice": "864.5"
                                },
                                {
                                    "Year": "2020",
                                    "Trimester": "1",
                                    "District": "Eixample",
                                    "AvgPrice": "1094.53",
                                    "MaxPrice": "1349.6",
                                    "MinPrice": "952.6"
                                },
                                {
                                    "Year": "2020",
                                    "Trimester": "1",
                                    "District": "Gracia",
                                    "AvgPrice": "930.48",
                                    "MaxPrice": "967.9",
                                    "MinPrice": "814.8"
                                },
                                {
                                    "Year": "2020",
                                    "Trimester": "1",
                                    "District": "Horta-Guinardo",
                                    "AvgPrice": "822.18",
                                    "MaxPrice": "963.4",
                                    "MinPrice": "698.9"
                                },
                                {
                                    "Year": "2020",
                                    "Trimester": "1",
                                    "District": "Les Corts",
                                    "AvgPrice": "1228.8",
                                    "MaxPrice": "1626.9",
                                    "MinPrice": "989.6"
                                },
                                {
                                    "Year": "2020",
                                    "Trimester": "1",
                                    "District": "Nou Barris",
                                    "AvgPrice": "661",
                                    "MaxPrice": "789.9",
                                    "MinPrice": "452"
                                },
                                {
                                    "Year": "2020",
                                    "Trimester": "1",
                                    "District": "Sant Andreu",
                                    "AvgPrice": "739.93",
                                    "MaxPrice": "873",
                                    "MinPrice": "584.1"
                                },
                                {
                                    "Year": "2020",
                                    "Trimester": "1",
                                    "District": "Sant Marti",
                                    "AvgPrice": "979.8",
                                    "MaxPrice": "1427.5",
                                    "MinPrice": "749.7"
                                },
                                {
                                    "Year": "2020",
                                    "Trimester": "1",
                                    "District": "Sants-Montjuic",
                                    "AvgPrice": "859.17",
                                    "MaxPrice": "891.4",
                                    "MinPrice": "810.1"
                                },
                                {
                                    "Year": "2020",
                                    "Trimester": "1",
                                    "District": "Sarria-Sant Gervasi",
                                    "AvgPrice": "1337.62",
                                    "MaxPrice": "1662.4",
                                    "MinPrice": "1053.9"
                                },
                                {
                                    "Year": "2020",
                                    "Trimester": "2",
                                    "District": "Ciutat Vella",
                                    "AvgPrice": "917.65",
                                    "MaxPrice": "1041",
                                    "MinPrice": "853.3"
                                },
                                {
                                    "Year": "2020",
                                    "Trimester": "2",
                                    "District": "Eixample",
                                    "AvgPrice": "1061.23",
                                    "MaxPrice": "1249.4",
                                    "MinPrice": "943.5"
                                },
                                {
                                    "Year": "2020",
                                    "Trimester": "2",
                                    "District": "Gracia",
                                    "AvgPrice": "977.78",
                                    "MaxPrice": "1060.5",
                                    "MinPrice": "910.3"
                                },
                                {
                                    "Year": "2020",
                                    "Trimester": "2",
                                    "District": "Horta-Guinardo",
                                    "AvgPrice": "808.85",
                                    "MaxPrice": "997.3",
                                    "MinPrice": "682.8"
                                },
                                {
                                    "Year": "2020",
                                    "Trimester": "2",
                                    "District": "Les Corts",
                                    "AvgPrice": "1288.47",
                                    "MaxPrice": "1822.7",
                                    "MinPrice": "946.1"
                                },
                                {
                                    "Year": "2020",
                                    "Trimester": "2",
                                    "District": "Nou Barris",
                                    "AvgPrice": "668.3",
                                    "MaxPrice": "803.2",
                                    "MinPrice": "508.4"
                                },
                                {
                                    "Year": "2020",
                                    "Trimester": "2",
                                    "District": "Sant Andreu",
                                    "AvgPrice": "798.67",
                                    "MaxPrice": "898.5",
                                    "MinPrice": "701"
                                },
                                {
                                    "Year": "2020",
                                    "Trimester": "2",
                                    "District": "Sant Marti",
                                    "AvgPrice": "938.98",
                                    "MaxPrice": "1446.1",
                                    "MinPrice": "696.9"
                                },
                                {
                                    "Year": "2020",
                                    "Trimester": "2",
                                    "District": "Sants-Montjuic",
                                    "AvgPrice": "836.39",
                                    "MaxPrice": "893.6",
                                    "MinPrice": "687.8"
                                },
                                {
                                    "Year": "2020",
                                    "Trimester": "2",
                                    "District": "Sarria-Sant Gervasi",
                                    "AvgPrice": "1306.53",
                                    "MaxPrice": "1679.1",
                                    "MinPrice": "1073.3"
                                },
                                {
                                    "Year": "2020",
                                    "Trimester": "3",
                                    "District": "Ciutat Vella",
                                    "AvgPrice": "902.6",
                                    "MaxPrice": "982.5",
                                    "MinPrice": "823.1"
                                },
                                {
                                    "Year": "2020",
                                    "Trimester": "3",
                                    "District": "Eixample",
                                    "AvgPrice": "1077.22",
                                    "MaxPrice": "1273.9",
                                    "MinPrice": "959.3"
                                },
                                {
                                    "Year": "2020",
                                    "Trimester": "3",
                                    "District": "Gracia",
                                    "AvgPrice": "920.68",
                                    "MaxPrice": "1001.2",
                                    "MinPrice": "777.6"
                                },
                                {
                                    "Year": "2020",
                                    "Trimester": "3",
                                    "District": "Horta-Guinardo",
                                    "AvgPrice": "813.19",
                                    "MaxPrice": "926.5",
                                    "MinPrice": "706"
                                },
                                {
                                    "Year": "2020",
                                    "Trimester": "3",
                                    "District": "Les Corts",
                                    "AvgPrice": "1334.27",
                                    "MaxPrice": "1932.3",
                                    "MinPrice": "1012.4"
                                },
                                {
                                    "Year": "2020",
                                    "Trimester": "3",
                                    "District": "Nou Barris",
                                    "AvgPrice": "710.63",
                                    "MaxPrice": "842",
                                    "MinPrice": "572.4"
                                },
                                {
                                    "Year": "2020",
                                    "Trimester": "3",
                                    "District": "Sant Andreu",
                                    "AvgPrice": "786.67",
                                    "MaxPrice": "858.4",
                                    "MinPrice": "668.5"
                                },
                                {
                                    "Year": "2020",
                                    "Trimester": "3",
                                    "District": "Sant Marti",
                                    "AvgPrice": "956.07",
                                    "MaxPrice": "1346.7",
                                    "MinPrice": "782.4"
                                },
                                {
                                    "Year": "2020",
                                    "Trimester": "3",
                                    "District": "Sants-Montjuic",
                                    "AvgPrice": "856.86",
                                    "MaxPrice": "892.3",
                                    "MinPrice": "820.2"
                                },
                                {
                                    "Year": "2020",
                                    "Trimester": "3",
                                    "District": "Sarria-Sant Gervasi",
                                    "AvgPrice": "1338.3",
                                    "MaxPrice": "1699.4",
                                    "MinPrice": "1073.4"
                                },
                                {
                                    "Year": "2020",
                                    "Trimester": "4",
                                    "District": "Ciutat Vella",
                                    "AvgPrice": "888.7",
                                    "MaxPrice": "1003.9",
                                    "MinPrice": "787"
                                },
                                {
                                    "Year": "2020",
                                    "Trimester": "4",
                                    "District": "Eixample",
                                    "AvgPrice": "1023.08",
                                    "MaxPrice": "1208.8",
                                    "MinPrice": "902.1"
                                },
                                {
                                    "Year": "2020",
                                    "Trimester": "4",
                                    "District": "Gracia",
                                    "AvgPrice": "926.14",
                                    "MaxPrice": "1026.8",
                                    "MinPrice": "790.4"
                                },
                                {
                                    "Year": "2020",
                                    "Trimester": "4",
                                    "District": "Horta-Guinardo",
                                    "AvgPrice": "756.98",
                                    "MaxPrice": "856.4",
                                    "MinPrice": "651.4"
                                },
                                {
                                    "Year": "2020",
                                    "Trimester": "4",
                                    "District": "Les Corts",
                                    "AvgPrice": "1202.77",
                                    "MaxPrice": "1577.1",
                                    "MinPrice": "993.3"
                                },
                                {
                                    "Year": "2020",
                                    "Trimester": "4",
                                    "District": "Nou Barris",
                                    "AvgPrice": "674.68",
                                    "MaxPrice": "756.1",
                                    "MinPrice": "514.1"
                                },
                                {
                                    "Year": "2020",
                                    "Trimester": "4",
                                    "District": "Sant Andreu",
                                    "AvgPrice": "747.53",
                                    "MaxPrice": "846.3",
                                    "MinPrice": "610"
                                },
                                {
                                    "Year": "2020",
                                    "Trimester": "4",
                                    "District": "Sant Marti",
                                    "AvgPrice": "950.52",
                                    "MaxPrice": "1392.6",
                                    "MinPrice": "731.6"
                                },
                                {
                                    "Year": "2020",
                                    "Trimester": "4",
                                    "District": "Sants-Montjuic",
                                    "AvgPrice": "820.14",
                                    "MaxPrice": "850.3",
                                    "MinPrice": "762.7"
                                },
                                {
                                    "Year": "2020",
                                    "Trimester": "4",
                                    "District": "Sarria-Sant Gervasi",
                                    "AvgPrice": "1347.38",
                                    "MaxPrice": "1729.5",
                                    "MinPrice": "1033.3"
                                },
                                {
                                    "Year": "2021",
                                    "Trimester": "1",
                                    "District": "Ciutat Vella",
                                    "AvgPrice": "844.28",
                                    "MaxPrice": "929.6",
                                    "MinPrice": "759.2"
                                },
                                {
                                    "Year": "2021",
                                    "Trimester": "1",
                                    "District": "Eixample",
                                    "AvgPrice": "980.78",
                                    "MaxPrice": "1176.7",
                                    "MinPrice": "887.1"
                                },
                                {
                                    "Year": "2021",
                                    "Trimester": "1",
                                    "District": "Gracia",
                                    "AvgPrice": "867.88",
                                    "MaxPrice": "959",
                                    "MinPrice": "745.4"
                                },
                                {
                                    "Year": "2021",
                                    "Trimester": "1",
                                    "District": "Horta-Guinardo",
                                    "AvgPrice": "754.63",
                                    "MaxPrice": "827",
                                    "MinPrice": "668.8"
                                },
                                {
                                    "Year": "2021",
                                    "Trimester": "1",
                                    "District": "Les Corts",
                                    "AvgPrice": "1171.93",
                                    "MaxPrice": "1598.2",
                                    "MinPrice": "927.3"
                                },
                                {
                                    "Year": "2021",
                                    "Trimester": "1",
                                    "District": "Nou Barris",
                                    "AvgPrice": "665.72",
                                    "MaxPrice": "762.5",
                                    "MinPrice": "520.2"
                                },
                                {
                                    "Year": "2021",
                                    "Trimester": "1",
                                    "District": "Sant Andreu",
                                    "AvgPrice": "731.15",
                                    "MaxPrice": "824.2",
                                    "MinPrice": "625.1"
                                },
                                {
                                    "Year": "2021",
                                    "Trimester": "1",
                                    "District": "Sant Marti",
                                    "AvgPrice": "901.77",
                                    "MaxPrice": "1298.9",
                                    "MinPrice": "704.2"
                                },
                                {
                                    "Year": "2021",
                                    "Trimester": "1",
                                    "District": "Sants-Montjuic",
                                    "AvgPrice": "799.27",
                                    "MaxPrice": "829.1",
                                    "MinPrice": "778.4"
                                },
                                {
                                    "Year": "2021",
                                    "Trimester": "1",
                                    "District": "Sarria-Sant Gervasi",
                                    "AvgPrice": "1320.57",
                                    "MaxPrice": "1578",
                                    "MinPrice": "990.1"
                                },
                                {
                                    "Year": "2021",
                                    "Trimester": "2",
                                    "District": "Ciutat Vella",
                                    "AvgPrice": "846.3",
                                    "MaxPrice": "934.1",
                                    "MinPrice": "774.2"
                                },
                                {
                                    "Year": "2021",
                                    "Trimester": "2",
                                    "District": "Eixample",
                                    "AvgPrice": "990.5",
                                    "MaxPrice": "1196.3",
                                    "MinPrice": "887.4"
                                },
                                {
                                    "Year": "2021",
                                    "Trimester": "2",
                                    "District": "Gracia",
                                    "AvgPrice": "868.32",
                                    "MaxPrice": "924.5",
                                    "MinPrice": "796.8"
                                },
                                {
                                    "Year": "2021",
                                    "Trimester": "2",
                                    "District": "Horta-Guinardo",
                                    "AvgPrice": "761.35",
                                    "MaxPrice": "884.2",
                                    "MinPrice": "653.5"
                                },
                                {
                                    "Year": "2021",
                                    "Trimester": "2",
                                    "District": "Les Corts",
                                    "AvgPrice": "1194.63",
                                    "MaxPrice": "1680.3",
                                    "MinPrice": "904.8"
                                },
                                {
                                    "Year": "2021",
                                    "Trimester": "2",
                                    "District": "Nou Barris",
                                    "AvgPrice": "652.2",
                                    "MaxPrice": "754.4",
                                    "MinPrice": "488.1"
                                },
                                {
                                    "Year": "2021",
                                    "Trimester": "2",
                                    "District": "Sant Andreu",
                                    "AvgPrice": "699.27",
                                    "MaxPrice": "827.2",
                                    "MinPrice": "447.5"
                                },
                                {
                                    "Year": "2021",
                                    "Trimester": "2",
                                    "District": "Sant Marti",
                                    "AvgPrice": "871.59",
                                    "MaxPrice": "1248.6",
                                    "MinPrice": "700.8"
                                },
                                {
                                    "Year": "2021",
                                    "Trimester": "2",
                                    "District": "Sants-Montjuic",
                                    "AvgPrice": "791.23",
                                    "MaxPrice": "815.4",
                                    "MinPrice": "772.4"
                                },
                                {
                                    "Year": "2021",
                                    "Trimester": "2",
                                    "District": "Sarria-Sant Gervasi",
                                    "AvgPrice": "1231.88",
                                    "MaxPrice": "1429",
                                    "MinPrice": "1024.4"
                                },
                                {
                                    "Year": "2021",
                                    "Trimester": "3",
                                    "District": "Ciutat Vella",
                                    "AvgPrice": "863.5",
                                    "MaxPrice": "968.4",
                                    "MinPrice": "770.5"
                                },
                                {
                                    "Year": "2021",
                                    "Trimester": "3",
                                    "District": "Eixample",
                                    "AvgPrice": "1004.47",
                                    "MaxPrice": "1168.4",
                                    "MinPrice": "912.4"
                                },
                                {
                                    "Year": "2021",
                                    "Trimester": "3",
                                    "District": "Gracia",
                                    "AvgPrice": "888.48",
                                    "MaxPrice": "961",
                                    "MinPrice": "755.5"
                                },
                                {
                                    "Year": "2021",
                                    "Trimester": "3",
                                    "District": "Horta-Guinardo",
                                    "AvgPrice": "776.1",
                                    "MaxPrice": "878.1",
                                    "MinPrice": "679.3"
                                },
                                {
                                    "Year": "2021",
                                    "Trimester": "3",
                                    "District": "Les Corts",
                                    "AvgPrice": "1272.13",
                                    "MaxPrice": "1816.5",
                                    "MinPrice": "982.9"
                                },
                                {
                                    "Year": "2021",
                                    "Trimester": "3",
                                    "District": "Nou Barris",
                                    "AvgPrice": "668.81",
                                    "MaxPrice": "769.9",
                                    "MinPrice": "547.7"
                                },
                                {
                                    "Year": "2021",
                                    "Trimester": "3",
                                    "District": "Sant Andreu",
                                    "AvgPrice": "725.33",
                                    "MaxPrice": "805.3",
                                    "MinPrice": "585"
                                },
                                {
                                    "Year": "2021",
                                    "Trimester": "3",
                                    "District": "Sant Marti",
                                    "AvgPrice": "941.06",
                                    "MaxPrice": "1343.1",
                                    "MinPrice": "736.1"
                                },
                                {
                                    "Year": "2021",
                                    "Trimester": "3",
                                    "District": "Sants-Montjuic",
                                    "AvgPrice": "803.41",
                                    "MaxPrice": "858.7",
                                    "MinPrice": "698.5"
                                },
                                {
                                    "Year": "2021",
                                    "Trimester": "3",
                                    "District": "Sarria-Sant Gervasi",
                                    "AvgPrice": "1239.67",
                                    "MaxPrice": "1566.5",
                                    "MinPrice": "1004.7"
                                },
                                {
                                    "Year": "2021",
                                    "Trimester": "4",
                                    "District": "Ciutat Vella",
                                    "AvgPrice": "881.63",
                                    "MaxPrice": "953",
                                    "MinPrice": "772.8"
                                },
                                {
                                    "Year": "2021",
                                    "Trimester": "4",
                                    "District": "Eixample",
                                    "AvgPrice": "1026.43",
                                    "MaxPrice": "1220.8",
                                    "MinPrice": "924.4"
                                },
                                {
                                    "Year": "2021",
                                    "Trimester": "4",
                                    "District": "Gracia",
                                    "AvgPrice": "884.38",
                                    "MaxPrice": "926.5",
                                    "MinPrice": "754.5"
                                },
                                {
                                    "Year": "2021",
                                    "Trimester": "4",
                                    "District": "Horta-Guinardo",
                                    "AvgPrice": "767.95",
                                    "MaxPrice": "859.1",
                                    "MinPrice": "675.7"
                                },
                                {
                                    "Year": "2021",
                                    "Trimester": "4",
                                    "District": "Les Corts",
                                    "AvgPrice": "1217.57",
                                    "MaxPrice": "1679.3",
                                    "MinPrice": "920.6"
                                },
                                {
                                    "Year": "2021",
                                    "Trimester": "4",
                                    "District": "Nou Barris",
                                    "AvgPrice": "670.44",
                                    "MaxPrice": "803.7",
                                    "MinPrice": "546.8"
                                },
                                {
                                    "Year": "2021",
                                    "Trimester": "4",
                                    "District": "Sant Andreu",
                                    "AvgPrice": "731.04",
                                    "MaxPrice": "825.4",
                                    "MinPrice": "616.7"
                                },
                                {
                                    "Year": "2021",
                                    "Trimester": "4",
                                    "District": "Sant Marti",
                                    "AvgPrice": "951.38",
                                    "MaxPrice": "1364.7",
                                    "MinPrice": "700.5"
                                },
                                {
                                    "Year": "2021",
                                    "Trimester": "4",
                                    "District": "Sants-Montjuic",
                                    "AvgPrice": "801.81",
                                    "MaxPrice": "872.5",
                                    "MinPrice": "691.9"
                                },
                                {
                                    "Year": "2021",
                                    "Trimester": "4",
                                    "District": "Sarria-Sant Gervasi",
                                    "AvgPrice": "1292.73",
                                    "MaxPrice": "1597.4",
                                    "MinPrice": "998.3"
                                },
                                {
                                    "Year": "2022",
                                    "Trimester": "1",
                                    "District": "Ciutat Vella",
                                    "AvgPrice": "1030.3",
                                    "MaxPrice": "1181.6",
                                    "MinPrice": "917"
                                },
                                {
                                    "Year": "2022",
                                    "Trimester": "1",
                                    "District": "Eixample",
                                    "AvgPrice": "1058.65",
                                    "MaxPrice": "1294.8",
                                    "MinPrice": "957.9"
                                },
                                {
                                    "Year": "2022",
                                    "Trimester": "1",
                                    "District": "Gracia",
                                    "AvgPrice": "915.18",
                                    "MaxPrice": "986",
                                    "MinPrice": "809.9"
                                },
                                {
                                    "Year": "2022",
                                    "Trimester": "1",
                                    "District": "Horta-Guinardo",
                                    "AvgPrice": "762.56",
                                    "MaxPrice": "888.9",
                                    "MinPrice": "671.3"
                                },
                                {
                                    "Year": "2022",
                                    "Trimester": "1",
                                    "District": "Les Corts",
                                    "AvgPrice": "1221.13",
                                    "MaxPrice": "1649.8",
                                    "MinPrice": "995"
                                },
                                {
                                    "Year": "2022",
                                    "Trimester": "1",
                                    "District": "Nou Barris",
                                    "AvgPrice": "653.78",
                                    "MaxPrice": "767",
                                    "MinPrice": "517.7"
                                },
                                {
                                    "Year": "2022",
                                    "Trimester": "1",
                                    "District": "Sant Andreu",
                                    "AvgPrice": "752.48",
                                    "MaxPrice": "847.2",
                                    "MinPrice": "616.9"
                                },
                                {
                                    "Year": "2022",
                                    "Trimester": "1",
                                    "District": "Sant Marti",
                                    "AvgPrice": "929.59",
                                    "MaxPrice": "1305",
                                    "MinPrice": "733.9"
                                },
                                {
                                    "Year": "2022",
                                    "Trimester": "1",
                                    "District": "Sants-Montjuic",
                                    "AvgPrice": "837.3",
                                    "MaxPrice": "971.8",
                                    "MinPrice": "728.7"
                                },
                                {
                                    "Year": "2022",
                                    "Trimester": "1",
                                    "District": "Sarria-Sant Gervasi",
                                    "AvgPrice": "1281.17",
                                    "MaxPrice": "1630.8",
                                    "MinPrice": "1054.9"
                                },
                                {
                                    "Year": "2022",
                                    "Trimester": "2",
                                    "District": "Ciutat Vella",
                                    "AvgPrice": "971.6",
                                    "MaxPrice": "1062.5",
                                    "MinPrice": "872"
                                },
                                {
                                    "Year": "2022",
                                    "Trimester": "2",
                                    "District": "Eixample",
                                    "AvgPrice": "1102.08",
                                    "MaxPrice": "1328.6",
                                    "MinPrice": "985.9"
                                },
                                {
                                    "Year": "2022",
                                    "Trimester": "2",
                                    "District": "Gracia",
                                    "AvgPrice": "939.84",
                                    "MaxPrice": "1010.3",
                                    "MinPrice": "759.2"
                                },
                                {
                                    "Year": "2022",
                                    "Trimester": "2",
                                    "District": "Horta-Guinardo",
                                    "AvgPrice": "800.92",
                                    "MaxPrice": "903.9",
                                    "MinPrice": "720.3"
                                },
                                {
                                    "Year": "2022",
                                    "Trimester": "2",
                                    "District": "Les Corts",
                                    "AvgPrice": "1335.13",
                                    "MaxPrice": "1944.5",
                                    "MinPrice": "993.1"
                                },
                                {
                                    "Year": "2022",
                                    "Trimester": "2",
                                    "District": "Nou Barris",
                                    "AvgPrice": "698.13",
                                    "MaxPrice": "855.5",
                                    "MinPrice": "574.9"
                                },
                                {
                                    "Year": "2022",
                                    "Trimester": "2",
                                    "District": "Sant Andreu",
                                    "AvgPrice": "767.83",
                                    "MaxPrice": "878.4",
                                    "MinPrice": "620"
                                },
                                {
                                    "Year": "2022",
                                    "Trimester": "2",
                                    "District": "Sant Marti",
                                    "AvgPrice": "1011.13",
                                    "MaxPrice": "1442.6",
                                    "MinPrice": "757"
                                },
                                {
                                    "Year": "2022",
                                    "Trimester": "2",
                                    "District": "Sants-Montjuic",
                                    "AvgPrice": "927.93",
                                    "MaxPrice": "1407.9",
                                    "MinPrice": "638.8"
                                },
                                {
                                    "Year": "2022",
                                    "Trimester": "2",
                                    "District": "Sarria-Sant Gervasi",
                                    "AvgPrice": "1328.9",
                                    "MaxPrice": "1767",
                                    "MinPrice": "894.9"
                                }
                            ]
                        },
                        "text/html": "<table><tr><th>Year</th><th>Trimester</th><th>District</th><th>AvgPrice</th><th>MaxPrice</th><th>MinPrice</th></tr><tr><td>2014</td><td>1</td><td>Ciutat Vella</td><td>629.12</td><td>712.79</td><td>540.71</td></tr><tr><td>2014</td><td>1</td><td>Eixample</td><td>761.38</td><td>921.4</td><td>673.37</td></tr><tr><td>2014</td><td>1</td><td>Gracia</td><td>649.77</td><td>679.8</td><td>583.93</td></tr><tr><td>2014</td><td>1</td><td>Horta-Guinardo</td><td>572.4</td><td>737.73</td><td>478.7</td></tr><tr><td>2014</td><td>1</td><td>Les Corts</td><td>902.46</td><td>1230</td><td>700.16</td></tr><tr><td>2014</td><td>1</td><td>Nou Barris</td><td>478.36</td><td>613.58</td><td>241.99</td></tr><tr><td>2014</td><td>1</td><td>Sant Andreu</td><td>555.59</td><td>626.26</td><td>461.1</td></tr><tr><td>2014</td><td>1</td><td>Sant Marti</td><td>671.16</td><td>926.43</td><td>516.9</td></tr><tr><td>2014</td><td>1</td><td>Sants-Montjuic</td><td>589.72</td><td>631.5</td><td>553.55</td></tr><tr><td>2014</td><td>1</td><td>Sarria-Sant Gervasi</td><td>971.25</td><td>1215.85</td><td>750.84</td></tr><tr><td>2014</td><td>2</td><td>Ciutat Vella</td><td>624.58</td><td>728.79</td><td>541.93</td></tr><tr><td>2014</td><td>2</td><td>Eixample</td><td>761.03</td><td>948.96</td><td>663.23</td></tr><tr><td>2014</td><td>2</td><td>Gracia</td><td>648.26</td><td>702.33</td><td>551.4</td></tr><tr><td>2014</td><td>2</td><td>Horta-Guinardo</td><td>579.13</td><td>772.41</td><td>476.94</td></tr><tr><td>2014</td><td>2</td><td>Les Corts</td><td>991.02</td><td>1459.12</td><td>748.64</td></tr><tr><td>2014</td><td>2</td><td>Nou Barris</td><td>460.47</td><td>613.14</td><td>295.39</td></tr><tr><td>2014</td><td>2</td><td>Sant Andreu</td><td>493.89</td><td>622.71</td><td>231.4</td></tr><tr><td>2014</td><td>2</td><td>Sant Marti</td><td>669.78</td><td>988.89</td><td>480.69</td></tr><tr><td>2014</td><td>2</td><td>Sants-Montjuic</td><td>578.25</td><td>624.88</td><td>454.44</td></tr><tr><td>2014</td><td>2</td><td>Sarria-Sant Gervasi</td><td>1016.22</td><td>1327.22</td><td>761.35</td></tr><tr><td>2014</td><td>3</td><td>Ciutat Vella</td><td>661.29</td><td>790.74</td><td>576.45</td></tr><tr><td>2014</td><td>3</td><td>Eixample</td><td>780.41</td><td>934.55</td><td>697.69</td></tr><tr><td>2014</td><td>3</td><td>Gracia</td><td>653.38</td><td>711.14</td><td>537.15</td></tr><tr><td>2014</td><td>3</td><td>Horta-Guinardo</td><td>580.52</td><td>715</td><td>469.77</td></tr><tr><td>2014</td><td>3</td><td>Les Corts</td><td>1020.32</td><td>1506.2</td><td>768.46</td></tr><tr><td>2014</td><td>3</td><td>Nou Barris</td><td>457.55</td><td>607.74</td><td>145.45</td></tr><tr><td>2014</td><td>3</td><td>Sant Andreu</td><td>553.06</td><td>635.11</td><td>419.12</td></tr><tr><td>2014</td><td>3</td><td>Sant Marti</td><td>686.02</td><td>1121.06</td><td>423.45</td></tr><tr><td>2014</td><td>3</td><td>Sants-Montjuic</td><td>602.53</td><td>630.89</td><td>542.81</td></tr><tr><td>2014</td><td>3</td><td>Sarria-Sant Gervasi</td><td>1044.11</td><td>1386.13</td><td>766.33</td></tr><tr><td>2014</td><td>4</td><td>Ciutat Vella</td><td>659.93</td><td>761.68</td><td>593.73</td></tr><tr><td>2014</td><td>4</td><td>Eixample</td><td>786.92</td><td>975.96</td><td>687.26</td></tr><tr><td>2014</td><td>4</td><td>Gracia</td><td>652.61</td><td>691.94</td><td>552.75</td></tr><tr><td>2014</td><td>4</td><td>Horta-Guinardo</td><td>592.42</td><td>784.44</td><td>506.26</td></tr><tr><td>2014</td><td>4</td><td>Les Corts</td><td>1123.57</td><td>1762.06</td><td>802.23</td></tr><tr><td>2014</td><td>4</td><td>Nou Barris</td><td>507.06</td><td>620.83</td><td>360.94</td></tr><tr><td>2014</td><td>4</td><td>Sant Andreu</td><td>557.39</td><td>647.84</td><td>400.76</td></tr><tr><td>2014</td><td>4</td><td>Sant Marti</td><td>701.51</td><td>1130.29</td><td>504.19</td></tr><tr><td>2014</td><td>4</td><td>Sants-Montjuic</td><td>618.79</td><td>679.58</td><td>574.45</td></tr><tr><td>2014</td><td>4</td><td>Sarria-Sant Gervasi</td><td>1144.72</td><td>1754.44</td><td>761.7</td></tr><tr><td>2015</td><td>1</td><td>Ciutat Vella</td><td>659.12</td><td>756.68</td><td>581.34</td></tr><tr><td>2015</td><td>1</td><td>Eixample</td><td>792.76</td><td>957.55</td><td>679.03</td></tr><tr><td>2015</td><td>1</td><td>Gracia</td><td>687.15</td><td>777.25</td><td>576.44</td></tr><tr><td>2015</td><td>1</td><td>Horta-Guinardo</td><td>597.76</td><td>740</td><td>485.74</td></tr><tr><td>2015</td><td>1</td><td>Les Corts</td><td>933.73</td><td>1250.83</td><td>727.99</td></tr><tr><td>2015</td><td>1</td><td>Nou Barris</td><td>496.87</td><td>626.23</td><td>401.17</td></tr><tr><td>2015</td><td>1</td><td>Sant Andreu</td><td>522.59</td><td>665.89</td><td>303.8</td></tr><tr><td>2015</td><td>1</td><td>Sant Marti</td><td>704.35</td><td>1093.14</td><td>512.89</td></tr><tr><td>2015</td><td>1</td><td>Sants-Montjuic</td><td>608.27</td><td>728.25</td><td>492.49</td></tr><tr><td>2015</td><td>1</td><td>Sarria-Sant Gervasi</td><td>1064.93</td><td>1335.71</td><td>758.44</td></tr><tr><td>2015</td><td>2</td><td>Ciutat Vella</td><td>669.06</td><td>771.13</td><td>598.16</td></tr><tr><td>2015</td><td>2</td><td>Eixample</td><td>813.74</td><td>988.89</td><td>704.44</td></tr><tr><td>2015</td><td>2</td><td>Gracia</td><td>665.88</td><td>726.61</td><td>539.58</td></tr><tr><td>2015</td><td>2</td><td>Horta-Guinardo</td><td>601.78</td><td>749.23</td><td>504.61</td></tr><tr><td>2015</td><td>2</td><td>Les Corts</td><td>1069.41</td><td>1711.45</td><td>679.54</td></tr><tr><td>2015</td><td>2</td><td>Nou Barris</td><td>492.31</td><td>583.05</td><td>399.19</td></tr><tr><td>2015</td><td>2</td><td>Sant Andreu</td><td>545.32</td><td>650.76</td><td>362.94</td></tr><tr><td>2015</td><td>2</td><td>Sant Marti</td><td>729.54</td><td>1116.3</td><td>505.97</td></tr><tr><td>2015</td><td>2</td><td>Sants-Montjuic</td><td>580.87</td><td>687.33</td><td>381.07</td></tr><tr><td>2015</td><td>2</td><td>Sarria-Sant Gervasi</td><td>1034.22</td><td>1337.79</td><td>790.21</td></tr><tr><td>2015</td><td>3</td><td>Ciutat Vella</td><td>696.5</td><td>773</td><td>630</td></tr><tr><td>2015</td><td>3</td><td>Eixample</td><td>845.83</td><td>1052</td><td>739</td></tr><tr><td>2015</td><td>3</td><td>Gracia</td><td>705.2</td><td>752</td><td>576</td></tr><tr><td>2015</td><td>3</td><td>Horta-Guinardo</td><td>568.55</td><td>655</td><td>368</td></tr><tr><td>2015</td><td>3</td><td>Les Corts</td><td>1236</td><td>2034</td><td>814</td></tr><tr><td>2015</td><td>3</td><td>Nou Barris</td><td>511.8</td><td>581</td><td>381</td></tr><tr><td>2015</td><td>3</td><td>Sant Andreu</td><td>543.14</td><td>685</td><td>187</td></tr><tr><td>2015</td><td>3</td><td>Sant Marti</td><td>757.6</td><td>1173</td><td>516</td></tr><tr><td>2015</td><td>3</td><td>Sants-Montjuic</td><td>653.86</td><td>735</td><td>565</td></tr><tr><td>2015</td><td>3</td><td>Sarria-Sant Gervasi</td><td>1152</td><td>1462</td><td>840</td></tr><tr><td>2015</td><td>4</td><td>Ciutat Vella</td><td>707.21</td><td>831.13</td><td>601.38</td></tr><tr><td>2015</td><td>4</td><td>Eixample</td><td>843</td><td>1035.07</td><td>726.93</td></tr><tr><td>2015</td><td>4</td><td>Gracia</td><td>704.95</td><td>751.72</td><td>542.71</td></tr><tr><td>2015</td><td>4</td><td>Horta-Guinardo</td><td>614.6</td><td>775.29</td><td>527.53</td></tr><tr><td>2015</td><td>4</td><td>Les Corts</td><td>1178.11</td><td>1860.3</td><td>764.77</td></tr><tr><td>2015</td><td>4</td><td>Nou Barris</td><td>506.4</td><td>615.06</td><td>366.67</td></tr><tr><td>2015</td><td>4</td><td>Sant Andreu</td><td>601.3</td><td>688.36</td><td>455.88</td></tr><tr><td>2015</td><td>4</td><td>Sant Marti</td><td>751.63</td><td>1211.01</td><td>492.1</td></tr><tr><td>2015</td><td>4</td><td>Sants-Montjuic</td><td>607.15</td><td>658.42</td><td>411.36</td></tr><tr><td>2015</td><td>4</td><td>Sarria-Sant Gervasi</td><td>1082.26</td><td>1385.99</td><td>808.38</td></tr><tr><td>2016</td><td>1</td><td>Ciutat Vella</td><td>728.94</td><td>893.42</td><td>624.42</td></tr><tr><td>2016</td><td>1</td><td>Eixample</td><td>870.25</td><td>1104.26</td><td>752.37</td></tr><tr><td>2016</td><td>1</td><td>Gracia</td><td>716.63</td><td>802.69</td><td>590.53</td></tr><tr><td>2016</td><td>1</td><td>Horta-Guinardo</td><td>624.58</td><td>749.81</td><td>513.53</td></tr><tr><td>2016</td><td>1</td><td>Les Corts</td><td>1081.04</td><td>1572.56</td><td>777.86</td></tr><tr><td>2016</td><td>1</td><td>Nou Barris</td><td>499.44</td><td>619.85</td><td>344.26</td></tr><tr><td>2016</td><td>1</td><td>Sant Andreu</td><td>514.15</td><td>665.34</td><td>142.34</td></tr><tr><td>2016</td><td>1</td><td>Sant Marti</td><td>751.62</td><td>1136</td><td>506.7</td></tr><tr><td>2016</td><td>1</td><td>Sants-Montjuic</td><td>583.9</td><td>664.66</td><td>360.88</td></tr><tr><td>2016</td><td>1</td><td>Sarria-Sant Gervasi</td><td>1107.04</td><td>1380.68</td><td>827.82</td></tr><tr><td>2016</td><td>2</td><td>Ciutat Vella</td><td>725.37</td><td>806.24</td><td>659.35</td></tr><tr><td>2016</td><td>2</td><td>Eixample</td><td>877.55</td><td>1120.4</td><td>739.86</td></tr><tr><td>2016</td><td>2</td><td>Gracia</td><td>735.12</td><td>780.36</td><td>592.76</td></tr><tr><td>2016</td><td>2</td><td>Horta-Guinardo</td><td>632.81</td><td>786.32</td><td>544.56</td></tr><tr><td>2016</td><td>2</td><td>Les Corts</td><td>1131.39</td><td>1660.43</td><td>821.2</td></tr><tr><td>2016</td><td>2</td><td>Nou Barris</td><td>532.02</td><td>621.43</td><td>427.97</td></tr><tr><td>2016</td><td>2</td><td>Sant Andreu</td><td>615.84</td><td>704.45</td><td>483.22</td></tr><tr><td>2016</td><td>2</td><td>Sant Marti</td><td>773.28</td><td>1151.48</td><td>521.08</td></tr><tr><td>2016</td><td>2</td><td>Sants-Montjuic</td><td>668.72</td><td>751.69</td><td>548.51</td></tr><tr><td>2016</td><td>2</td><td>Sarria-Sant Gervasi</td><td>1175.58</td><td>1560.7</td><td>891.63</td></tr><tr><td>2016</td><td>3</td><td>Ciutat Vella</td><td>761</td><td>851.63</td><td>666.17</td></tr><tr><td>2016</td><td>3</td><td>Eixample</td><td>928.63</td><td>1143.98</td><td>799.38</td></tr><tr><td>2016</td><td>3</td><td>Gracia</td><td>790.99</td><td>855.89</td><td>635.15</td></tr><tr><td>2016</td><td>3</td><td>Horta-Guinardo</td><td>652.83</td><td>796.92</td><td>557.55</td></tr><tr><td>2016</td><td>3</td><td>Les Corts</td><td>1177.28</td><td>1689.6</td><td>892.28</td></tr><tr><td>2016</td><td>3</td><td>Nou Barris</td><td>546.19</td><td>648.75</td><td>373.14</td></tr><tr><td>2016</td><td>3</td><td>Sant Andreu</td><td>572.52</td><td>712.32</td><td>256.45</td></tr><tr><td>2016</td><td>3</td><td>Sant Marti</td><td>824.95</td><td>1268.48</td><td>556.45</td></tr><tr><td>2016</td><td>3</td><td>Sants-Montjuic</td><td>695.31</td><td>764.38</td><td>577.47</td></tr><tr><td>2016</td><td>3</td><td>Sarria-Sant Gervasi</td><td>1222.17</td><td>1619.04</td><td>876.77</td></tr><tr><td>2016</td><td>4</td><td>Ciutat Vella</td><td>792.79</td><td>913.96</td><td>686.31</td></tr><tr><td>2016</td><td>4</td><td>Eixample</td><td>936.37</td><td>1174.38</td><td>806.4</td></tr><tr><td>2016</td><td>4</td><td>Gracia</td><td>782.05</td><td>829.23</td><td>653.69</td></tr><tr><td>2016</td><td>4</td><td>Horta-Guinardo</td><td>688.22</td><td>778.67</td><td>597.13</td></tr><tr><td>2016</td><td>4</td><td>Les Corts</td><td>1180.7</td><td>1692.2</td><td>866.43</td></tr><tr><td>2016</td><td>4</td><td>Nou Barris</td><td>542.04</td><td>684.2</td><td>301.82</td></tr><tr><td>2016</td><td>4</td><td>Sant Andreu</td><td>656.43</td><td>768.66</td><td>552.81</td></tr><tr><td>2016</td><td>4</td><td>Sant Marti</td><td>851.48</td><td>1285.61</td><td>571.6</td></tr><tr><td>2016</td><td>4</td><td>Sants-Montjuic</td><td>712.96</td><td>786.35</td><td>613.16</td></tr><tr><td>2016</td><td>4</td><td>Sarria-Sant Gervasi</td><td>1238.67</td><td>1490.72</td><td>904.17</td></tr><tr><td>2017</td><td>1</td><td>Ciutat Vella</td><td>814.58</td><td>905.26</td><td>722.78</td></tr><tr><td>2017</td><td>1</td><td>Eixample</td><td>942.79</td><td>1151.09</td><td>847.04</td></tr><tr><td>2017</td><td>1</td><td>Gracia</td><td>830.35</td><td>946.59</td><td>687.42</td></tr><tr><td>2017</td><td>1</td><td>Horta-Guinardo</td><td>700.25</td><td>816.05</td><td>597.09</td></tr><tr><td>2017</td><td>1</td><td>Les Corts</td><td>1229.78</td><td>1856.57</td><td>896.45</td></tr><tr><td>2017</td><td>1</td><td>Nou Barris</td><td>581.4</td><td>689.62</td><td>418.07</td></tr><tr><td>2017</td><td>1</td><td>Sant Andreu</td><td>636.22</td><td>716.78</td><td>497.84</td></tr><tr><td>2017</td><td>1</td><td>Sant Marti</td><td>851.62</td><td>1148.2</td><td>588.9</td></tr><tr><td>2017</td><td>1</td><td>Sants-Montjuic</td><td>723.65</td><td>806.34</td><td>680.17</td></tr><tr><td>2017</td><td>1</td><td>Sarria-Sant Gervasi</td><td>1236.7</td><td>1516.52</td><td>913.45</td></tr><tr><td>2017</td><td>2</td><td>Ciutat Vella</td><td>837.71</td><td>968.16</td><td>714.29</td></tr><tr><td>2017</td><td>2</td><td>Eixample</td><td>975.53</td><td>1218.18</td><td>867.97</td></tr><tr><td>2017</td><td>2</td><td>Gracia</td><td>839.96</td><td>917.84</td><td>701.29</td></tr><tr><td>2017</td><td>2</td><td>Horta-Guinardo</td><td>706.52</td><td>819.11</td><td>597.58</td></tr><tr><td>2017</td><td>2</td><td>Les Corts</td><td>1185.17</td><td>1666.63</td><td>882.05</td></tr><tr><td>2017</td><td>2</td><td>Nou Barris</td><td>552.83</td><td>699.81</td><td>302.52</td></tr><tr><td>2017</td><td>2</td><td>Sant Andreu</td><td>662.59</td><td>783.88</td><td>434.91</td></tr><tr><td>2017</td><td>2</td><td>Sant Marti</td><td>859.5</td><td>1345.63</td><td>606.61</td></tr><tr><td>2017</td><td>2</td><td>Sants-Montjuic</td><td>747.57</td><td>785.02</td><td>634.28</td></tr><tr><td>2017</td><td>2</td><td>Sarria-Sant Gervasi</td><td>1266.36</td><td>1646.76</td><td>902.42</td></tr><tr><td>2017</td><td>3</td><td>Ciutat Vella</td><td>869.67</td><td>1028.49</td><td>758.18</td></tr><tr><td>2017</td><td>3</td><td>Eixample</td><td>998.37</td><td>1179.11</td><td>906.78</td></tr><tr><td>2017</td><td>3</td><td>Gracia</td><td>852.83</td><td>912.51</td><td>799.44</td></tr><tr><td>2017</td><td>3</td><td>Horta-Guinardo</td><td>739.14</td><td>922.75</td><td>610.13</td></tr><tr><td>2017</td><td>3</td><td>Les Corts</td><td>1288.9</td><td>1882.42</td><td>970.71</td></tr><tr><td>2017</td><td>3</td><td>Nou Barris</td><td>596.91</td><td>750.43</td><td>423.09</td></tr><tr><td>2017</td><td>3</td><td>Sant Andreu</td><td>695.78</td><td>790.19</td><td>532.33</td></tr><tr><td>2017</td><td>3</td><td>Sant Marti</td><td>872.58</td><td>1189.26</td><td>625.13</td></tr><tr><td>2017</td><td>3</td><td>Sants-Montjuic</td><td>791.11</td><td>861.69</td><td>711.93</td></tr><tr><td>2017</td><td>3</td><td>Sarria-Sant Gervasi</td><td>1357.68</td><td>1757</td><td>962.41</td></tr><tr><td>2017</td><td>4</td><td>Ciutat Vella</td><td>862.67</td><td>993.16</td><td>766.03</td></tr><tr><td>2017</td><td>4</td><td>Eixample</td><td>992.83</td><td>1225.08</td><td>877.02</td></tr><tr><td>2017</td><td>4</td><td>Gracia</td><td>814.15</td><td>879.85</td><td>711.57</td></tr><tr><td>2017</td><td>4</td><td>Horta-Guinardo</td><td>727.57</td><td>865.42</td><td>609.11</td></tr><tr><td>2017</td><td>4</td><td>Les Corts</td><td>1239.02</td><td>1737.92</td><td>935.38</td></tr><tr><td>2017</td><td>4</td><td>Nou Barris</td><td>603.72</td><td>723.34</td><td>425.51</td></tr><tr><td>2017</td><td>4</td><td>Sant Andreu</td><td>690.84</td><td>805.1</td><td>535.92</td></tr><tr><td>2017</td><td>4</td><td>Sant Marti</td><td>894.57</td><td>1349.82</td><td>621.32</td></tr><tr><td>2017</td><td>4</td><td>Sants-Montjuic</td><td>779.06</td><td>827.36</td><td>728.07</td></tr><tr><td>2017</td><td>4</td><td>Sarria-Sant Gervasi</td><td>1264.91</td><td>1588.53</td><td>938.2</td></tr><tr><td>2018</td><td>1</td><td>Ciutat Vella</td><td>896.36</td><td>998.4</td><td>792.74</td></tr><tr><td>2018</td><td>1</td><td>Eixample</td><td>983.8</td><td>1191.43</td><td>883.75</td></tr><tr><td>2018</td><td>1</td><td>Gracia</td><td>845.46</td><td>899.65</td><td>741.23</td></tr><tr><td>2018</td><td>1</td><td>Horta-Guinardo</td><td>742.88</td><td>874.2</td><td>634.75</td></tr><tr><td>2018</td><td>1</td><td>Les Corts</td><td>1250.34</td><td>1799.91</td><td>948.77</td></tr><tr><td>2018</td><td>1</td><td>Nou Barris</td><td>642.54</td><td>720.9</td><td>507.16</td></tr><tr><td>2018</td><td>1</td><td>Sant Andreu</td><td>711.87</td><td>790.2</td><td>589.02</td></tr><tr><td>2018</td><td>1</td><td>Sant Marti</td><td>893.31</td><td>1272.26</td><td>682.32</td></tr><tr><td>2018</td><td>1</td><td>Sants-Montjuic</td><td>783.59</td><td>842.32</td><td>751.65</td></tr><tr><td>2018</td><td>1</td><td>Sarria-Sant Gervasi</td><td>1210.52</td><td>1613.41</td><td>895.7</td></tr><tr><td>2018</td><td>2</td><td>Ciutat Vella</td><td>940</td><td>1024.29</td><td>820.88</td></tr><tr><td>2018</td><td>2</td><td>Eixample</td><td>1010.09</td><td>1263.08</td><td>893.43</td></tr><tr><td>2018</td><td>2</td><td>Gracia</td><td>867.51</td><td>939.03</td><td>716.25</td></tr><tr><td>2018</td><td>2</td><td>Horta-Guinardo</td><td>735.99</td><td>864.72</td><td>637.17</td></tr><tr><td>2018</td><td>2</td><td>Les Corts</td><td>1187.1</td><td>1563.31</td><td>959.26</td></tr><tr><td>2018</td><td>2</td><td>Nou Barris</td><td>623.42</td><td>726.89</td><td>434.52</td></tr><tr><td>2018</td><td>2</td><td>Sant Andreu</td><td>730.97</td><td>798.39</td><td>598.29</td></tr><tr><td>2018</td><td>2</td><td>Sant Marti</td><td>952.25</td><td>1371.14</td><td>649.17</td></tr><tr><td>2018</td><td>2</td><td>Sants-Montjuic</td><td>781.13</td><td>834.68</td><td>719.33</td></tr><tr><td>2018</td><td>2</td><td>Sarria-Sant Gervasi</td><td>1208.23</td><td>1467.07</td><td>860.13</td></tr><tr><td>2018</td><td>3</td><td>Ciutat Vella</td><td>930.51</td><td>1012.49</td><td>849.32</td></tr><tr><td>2018</td><td>3</td><td>Eixample</td><td>1038.47</td><td>1216.7</td><td>934.89</td></tr><tr><td>2018</td><td>3</td><td>Gracia</td><td>876.14</td><td>924.81</td><td>756.36</td></tr><tr><td>2018</td><td>3</td><td>Horta-Guinardo</td><td>764.27</td><td>876.58</td><td>654.77</td></tr><tr><td>2018</td><td>3</td><td>Les Corts</td><td>1313.6</td><td>1849.52</td><td>1013.28</td></tr><tr><td>2018</td><td>3</td><td>Nou Barris</td><td>660.98</td><td>742.82</td><td>514.34</td></tr><tr><td>2018</td><td>3</td><td>Sant Andreu</td><td>743.88</td><td>823.74</td><td>597.93</td></tr><tr><td>2018</td><td>3</td><td>Sant Marti</td><td>884.76</td><td>1284.3</td><td>699.06</td></tr><tr><td>2018</td><td>3</td><td>Sants-Montjuic</td><td>819.55</td><td>871.41</td><td>755.18</td></tr><tr><td>2018</td><td>3</td><td>Sarria-Sant Gervasi</td><td>1335.03</td><td>1746.01</td><td>1021.27</td></tr><tr><td>2018</td><td>4</td><td>Ciutat Vella</td><td>949.56</td><td>1057.26</td><td>827.27</td></tr><tr><td>2018</td><td>4</td><td>Eixample</td><td>1065.95</td><td>1340.38</td><td>930.02</td></tr><tr><td>2018</td><td>4</td><td>Gracia</td><td>904.67</td><td>971.51</td><td>748.9</td></tr><tr><td>2018</td><td>4</td><td>Horta-Guinardo</td><td>760.53</td><td>876.65</td><td>653.21</td></tr><tr><td>2018</td><td>4</td><td>Les Corts</td><td>1202.27</td><td>1615.31</td><td>960.03</td></tr><tr><td>2018</td><td>4</td><td>Nou Barris</td><td>671.41</td><td>782.95</td><td>514.52</td></tr><tr><td>2018</td><td>4</td><td>Sant Andreu</td><td>737.08</td><td>840.01</td><td>564.56</td></tr><tr><td>2018</td><td>4</td><td>Sant Marti</td><td>948.72</td><td>1307.79</td><td>711.67</td></tr><tr><td>2018</td><td>4</td><td>Sants-Montjuic</td><td>814.96</td><td>834.64</td><td>778.52</td></tr><tr><td>2018</td><td>4</td><td>Sarria-Sant Gervasi</td><td>1263.11</td><td>1567.91</td><td>898.33</td></tr><tr><td>2019</td><td>1</td><td>Ciutat Vella</td><td>941.25</td><td>1060.9</td><td>822.6</td></tr><tr><td>2019</td><td>1</td><td>Eixample</td><td>1046.72</td><td>1269.1</td><td>936.3</td></tr><tr><td>2019</td><td>1</td><td>Gracia</td><td>882.44</td><td>937.3</td><td>750.6</td></tr><tr><td>2019</td><td>1</td><td>Horta-Guinardo</td><td>779.84</td><td>870.2</td><td>670.6</td></tr><tr><td>2019</td><td>1</td><td>Les Corts</td><td>1247</td><td>1732.5</td><td>938.5</td></tr><tr><td>2019</td><td>1</td><td>Nou Barris</td><td>684.39</td><td>791.9</td><td>575.4</td></tr><tr><td>2019</td><td>1</td><td>Sant Andreu</td><td>756.25</td><td>855.3</td><td>601.2</td></tr><tr><td>2019</td><td>1</td><td>Sant Marti</td><td>937.14</td><td>1304</td><td>694.8</td></tr><tr><td>2019</td><td>1</td><td>Sants-Montjuic</td><td>819.84</td><td>873</td><td>714.9</td></tr><tr><td>2019</td><td>1</td><td>Sarria-Sant Gervasi</td><td>1281.42</td><td>1645.9</td><td>1057.1</td></tr><tr><td>2019</td><td>2</td><td>Ciutat Vella</td><td>978.3</td><td>1112.1</td><td>867</td></tr><tr><td>2019</td><td>2</td><td>Eixample</td><td>1061.23</td><td>1277.9</td><td>942.9</td></tr><tr><td>2019</td><td>2</td><td>Gracia</td><td>935.48</td><td>1028.9</td><td>819.8</td></tr><tr><td>2019</td><td>2</td><td>Horta-Guinardo</td><td>795.78</td><td>1044</td><td>666.9</td></tr><tr><td>2019</td><td>2</td><td>Les Corts</td><td>1268.27</td><td>1746.7</td><td>973</td></tr><tr><td>2019</td><td>2</td><td>Nou Barris</td><td>688.32</td><td>775.3</td><td>559.8</td></tr><tr><td>2019</td><td>2</td><td>Sant Andreu</td><td>750.32</td><td>836.9</td><td>614.7</td></tr><tr><td>2019</td><td>2</td><td>Sant Marti</td><td>1001.65</td><td>1444.6</td><td>798.1</td></tr><tr><td>2019</td><td>2</td><td>Sants-Montjuic</td><td>834.33</td><td>867.5</td><td>753.1</td></tr><tr><td>2019</td><td>2</td><td>Sarria-Sant Gervasi</td><td>1307.38</td><td>1602.5</td><td>1115.7</td></tr><tr><td>2019</td><td>3</td><td>Ciutat Vella</td><td>960.83</td><td>1082.4</td><td>869.1</td></tr><tr><td>2019</td><td>3</td><td>Eixample</td><td>1103.8</td><td>1348.9</td><td>979.6</td></tr><tr><td>2019</td><td>3</td><td>Gracia</td><td>936.34</td><td>996.3</td><td>813.8</td></tr><tr><td>2019</td><td>3</td><td>Horta-Guinardo</td><td>800.86</td><td>902.2</td><td>703.3</td></tr><tr><td>2019</td><td>3</td><td>Les Corts</td><td>1368.1</td><td>1950.1</td><td>1040.3</td></tr><tr><td>2019</td><td>3</td><td>Nou Barris</td><td>682.21</td><td>792.2</td><td>532.6</td></tr><tr><td>2019</td><td>3</td><td>Sant Andreu</td><td>754.47</td><td>864.6</td><td>569.9</td></tr><tr><td>2019</td><td>3</td><td>Sant Marti</td><td>982.89</td><td>1409.4</td><td>728.3</td></tr><tr><td>2019</td><td>3</td><td>Sants-Montjuic</td><td>853.93</td><td>888.3</td><td>790.1</td></tr><tr><td>2019</td><td>3</td><td>Sarria-Sant Gervasi</td><td>1369.87</td><td>1614.8</td><td>1070.2</td></tr><tr><td>2019</td><td>4</td><td>Ciutat Vella</td><td>961</td><td>1139.7</td><td>844.9</td></tr><tr><td>2019</td><td>4</td><td>Eixample</td><td>1111.18</td><td>1333</td><td>980</td></tr><tr><td>2019</td><td>4</td><td>Gracia</td><td>950.44</td><td>1017.6</td><td>817.5</td></tr><tr><td>2019</td><td>4</td><td>Horta-Guinardo</td><td>809.08</td><td>954.5</td><td>700.2</td></tr><tr><td>2019</td><td>4</td><td>Les Corts</td><td>1405.9</td><td>2023.4</td><td>1078.1</td></tr><tr><td>2019</td><td>4</td><td>Nou Barris</td><td>688.08</td><td>801.8</td><td>561.4</td></tr><tr><td>2019</td><td>4</td><td>Sant Andreu</td><td>776.27</td><td>856.8</td><td>622.3</td></tr><tr><td>2019</td><td>4</td><td>Sant Marti</td><td>1003.41</td><td>1498.6</td><td>693.8</td></tr><tr><td>2019</td><td>4</td><td>Sants-Montjuic</td><td>791.18</td><td>884.8</td><td>350.5</td></tr><tr><td>2019</td><td>4</td><td>Sarria-Sant Gervasi</td><td>1380.12</td><td>1745</td><td>1099.8</td></tr><tr><td>2020</td><td>1</td><td>Ciutat Vella</td><td>976.05</td><td>1110.2</td><td>864.5</td></tr><tr><td>2020</td><td>1</td><td>Eixample</td><td>1094.53</td><td>1349.6</td><td>952.6</td></tr><tr><td>2020</td><td>1</td><td>Gracia</td><td>930.48</td><td>967.9</td><td>814.8</td></tr><tr><td>2020</td><td>1</td><td>Horta-Guinardo</td><td>822.18</td><td>963.4</td><td>698.9</td></tr><tr><td>2020</td><td>1</td><td>Les Corts</td><td>1228.8</td><td>1626.9</td><td>989.6</td></tr><tr><td>2020</td><td>1</td><td>Nou Barris</td><td>661</td><td>789.9</td><td>452</td></tr><tr><td>2020</td><td>1</td><td>Sant Andreu</td><td>739.93</td><td>873</td><td>584.1</td></tr><tr><td>2020</td><td>1</td><td>Sant Marti</td><td>979.8</td><td>1427.5</td><td>749.7</td></tr><tr><td>2020</td><td>1</td><td>Sants-Montjuic</td><td>859.17</td><td>891.4</td><td>810.1</td></tr><tr><td>2020</td><td>1</td><td>Sarria-Sant Gervasi</td><td>1337.62</td><td>1662.4</td><td>1053.9</td></tr><tr><td>2020</td><td>2</td><td>Ciutat Vella</td><td>917.65</td><td>1041</td><td>853.3</td></tr><tr><td>2020</td><td>2</td><td>Eixample</td><td>1061.23</td><td>1249.4</td><td>943.5</td></tr><tr><td>2020</td><td>2</td><td>Gracia</td><td>977.78</td><td>1060.5</td><td>910.3</td></tr><tr><td>2020</td><td>2</td><td>Horta-Guinardo</td><td>808.85</td><td>997.3</td><td>682.8</td></tr><tr><td>2020</td><td>2</td><td>Les Corts</td><td>1288.47</td><td>1822.7</td><td>946.1</td></tr><tr><td>2020</td><td>2</td><td>Nou Barris</td><td>668.3</td><td>803.2</td><td>508.4</td></tr><tr><td>2020</td><td>2</td><td>Sant Andreu</td><td>798.67</td><td>898.5</td><td>701</td></tr><tr><td>2020</td><td>2</td><td>Sant Marti</td><td>938.98</td><td>1446.1</td><td>696.9</td></tr><tr><td>2020</td><td>2</td><td>Sants-Montjuic</td><td>836.39</td><td>893.6</td><td>687.8</td></tr><tr><td>2020</td><td>2</td><td>Sarria-Sant Gervasi</td><td>1306.53</td><td>1679.1</td><td>1073.3</td></tr><tr><td>2020</td><td>3</td><td>Ciutat Vella</td><td>902.6</td><td>982.5</td><td>823.1</td></tr><tr><td>2020</td><td>3</td><td>Eixample</td><td>1077.22</td><td>1273.9</td><td>959.3</td></tr><tr><td>2020</td><td>3</td><td>Gracia</td><td>920.68</td><td>1001.2</td><td>777.6</td></tr><tr><td>2020</td><td>3</td><td>Horta-Guinardo</td><td>813.19</td><td>926.5</td><td>706</td></tr><tr><td>2020</td><td>3</td><td>Les Corts</td><td>1334.27</td><td>1932.3</td><td>1012.4</td></tr><tr><td>2020</td><td>3</td><td>Nou Barris</td><td>710.63</td><td>842</td><td>572.4</td></tr><tr><td>2020</td><td>3</td><td>Sant Andreu</td><td>786.67</td><td>858.4</td><td>668.5</td></tr><tr><td>2020</td><td>3</td><td>Sant Marti</td><td>956.07</td><td>1346.7</td><td>782.4</td></tr><tr><td>2020</td><td>3</td><td>Sants-Montjuic</td><td>856.86</td><td>892.3</td><td>820.2</td></tr><tr><td>2020</td><td>3</td><td>Sarria-Sant Gervasi</td><td>1338.3</td><td>1699.4</td><td>1073.4</td></tr><tr><td>2020</td><td>4</td><td>Ciutat Vella</td><td>888.7</td><td>1003.9</td><td>787</td></tr><tr><td>2020</td><td>4</td><td>Eixample</td><td>1023.08</td><td>1208.8</td><td>902.1</td></tr><tr><td>2020</td><td>4</td><td>Gracia</td><td>926.14</td><td>1026.8</td><td>790.4</td></tr><tr><td>2020</td><td>4</td><td>Horta-Guinardo</td><td>756.98</td><td>856.4</td><td>651.4</td></tr><tr><td>2020</td><td>4</td><td>Les Corts</td><td>1202.77</td><td>1577.1</td><td>993.3</td></tr><tr><td>2020</td><td>4</td><td>Nou Barris</td><td>674.68</td><td>756.1</td><td>514.1</td></tr><tr><td>2020</td><td>4</td><td>Sant Andreu</td><td>747.53</td><td>846.3</td><td>610</td></tr><tr><td>2020</td><td>4</td><td>Sant Marti</td><td>950.52</td><td>1392.6</td><td>731.6</td></tr><tr><td>2020</td><td>4</td><td>Sants-Montjuic</td><td>820.14</td><td>850.3</td><td>762.7</td></tr><tr><td>2020</td><td>4</td><td>Sarria-Sant Gervasi</td><td>1347.38</td><td>1729.5</td><td>1033.3</td></tr><tr><td>2021</td><td>1</td><td>Ciutat Vella</td><td>844.28</td><td>929.6</td><td>759.2</td></tr><tr><td>2021</td><td>1</td><td>Eixample</td><td>980.78</td><td>1176.7</td><td>887.1</td></tr><tr><td>2021</td><td>1</td><td>Gracia</td><td>867.88</td><td>959</td><td>745.4</td></tr><tr><td>2021</td><td>1</td><td>Horta-Guinardo</td><td>754.63</td><td>827</td><td>668.8</td></tr><tr><td>2021</td><td>1</td><td>Les Corts</td><td>1171.93</td><td>1598.2</td><td>927.3</td></tr><tr><td>2021</td><td>1</td><td>Nou Barris</td><td>665.72</td><td>762.5</td><td>520.2</td></tr><tr><td>2021</td><td>1</td><td>Sant Andreu</td><td>731.15</td><td>824.2</td><td>625.1</td></tr><tr><td>2021</td><td>1</td><td>Sant Marti</td><td>901.77</td><td>1298.9</td><td>704.2</td></tr><tr><td>2021</td><td>1</td><td>Sants-Montjuic</td><td>799.27</td><td>829.1</td><td>778.4</td></tr><tr><td>2021</td><td>1</td><td>Sarria-Sant Gervasi</td><td>1320.57</td><td>1578</td><td>990.1</td></tr><tr><td>2021</td><td>2</td><td>Ciutat Vella</td><td>846.3</td><td>934.1</td><td>774.2</td></tr><tr><td>2021</td><td>2</td><td>Eixample</td><td>990.5</td><td>1196.3</td><td>887.4</td></tr><tr><td>2021</td><td>2</td><td>Gracia</td><td>868.32</td><td>924.5</td><td>796.8</td></tr><tr><td>2021</td><td>2</td><td>Horta-Guinardo</td><td>761.35</td><td>884.2</td><td>653.5</td></tr><tr><td>2021</td><td>2</td><td>Les Corts</td><td>1194.63</td><td>1680.3</td><td>904.8</td></tr><tr><td>2021</td><td>2</td><td>Nou Barris</td><td>652.2</td><td>754.4</td><td>488.1</td></tr><tr><td>2021</td><td>2</td><td>Sant Andreu</td><td>699.27</td><td>827.2</td><td>447.5</td></tr><tr><td>2021</td><td>2</td><td>Sant Marti</td><td>871.59</td><td>1248.6</td><td>700.8</td></tr><tr><td>2021</td><td>2</td><td>Sants-Montjuic</td><td>791.23</td><td>815.4</td><td>772.4</td></tr><tr><td>2021</td><td>2</td><td>Sarria-Sant Gervasi</td><td>1231.88</td><td>1429</td><td>1024.4</td></tr><tr><td>2021</td><td>3</td><td>Ciutat Vella</td><td>863.5</td><td>968.4</td><td>770.5</td></tr><tr><td>2021</td><td>3</td><td>Eixample</td><td>1004.47</td><td>1168.4</td><td>912.4</td></tr><tr><td>2021</td><td>3</td><td>Gracia</td><td>888.48</td><td>961</td><td>755.5</td></tr><tr><td>2021</td><td>3</td><td>Horta-Guinardo</td><td>776.1</td><td>878.1</td><td>679.3</td></tr><tr><td>2021</td><td>3</td><td>Les Corts</td><td>1272.13</td><td>1816.5</td><td>982.9</td></tr><tr><td>2021</td><td>3</td><td>Nou Barris</td><td>668.81</td><td>769.9</td><td>547.7</td></tr><tr><td>2021</td><td>3</td><td>Sant Andreu</td><td>725.33</td><td>805.3</td><td>585</td></tr><tr><td>2021</td><td>3</td><td>Sant Marti</td><td>941.06</td><td>1343.1</td><td>736.1</td></tr><tr><td>2021</td><td>3</td><td>Sants-Montjuic</td><td>803.41</td><td>858.7</td><td>698.5</td></tr><tr><td>2021</td><td>3</td><td>Sarria-Sant Gervasi</td><td>1239.67</td><td>1566.5</td><td>1004.7</td></tr><tr><td>2021</td><td>4</td><td>Ciutat Vella</td><td>881.63</td><td>953</td><td>772.8</td></tr><tr><td>2021</td><td>4</td><td>Eixample</td><td>1026.43</td><td>1220.8</td><td>924.4</td></tr><tr><td>2021</td><td>4</td><td>Gracia</td><td>884.38</td><td>926.5</td><td>754.5</td></tr><tr><td>2021</td><td>4</td><td>Horta-Guinardo</td><td>767.95</td><td>859.1</td><td>675.7</td></tr><tr><td>2021</td><td>4</td><td>Les Corts</td><td>1217.57</td><td>1679.3</td><td>920.6</td></tr><tr><td>2021</td><td>4</td><td>Nou Barris</td><td>670.44</td><td>803.7</td><td>546.8</td></tr><tr><td>2021</td><td>4</td><td>Sant Andreu</td><td>731.04</td><td>825.4</td><td>616.7</td></tr><tr><td>2021</td><td>4</td><td>Sant Marti</td><td>951.38</td><td>1364.7</td><td>700.5</td></tr><tr><td>2021</td><td>4</td><td>Sants-Montjuic</td><td>801.81</td><td>872.5</td><td>691.9</td></tr><tr><td>2021</td><td>4</td><td>Sarria-Sant Gervasi</td><td>1292.73</td><td>1597.4</td><td>998.3</td></tr><tr><td>2022</td><td>1</td><td>Ciutat Vella</td><td>1030.3</td><td>1181.6</td><td>917</td></tr><tr><td>2022</td><td>1</td><td>Eixample</td><td>1058.65</td><td>1294.8</td><td>957.9</td></tr><tr><td>2022</td><td>1</td><td>Gracia</td><td>915.18</td><td>986</td><td>809.9</td></tr><tr><td>2022</td><td>1</td><td>Horta-Guinardo</td><td>762.56</td><td>888.9</td><td>671.3</td></tr><tr><td>2022</td><td>1</td><td>Les Corts</td><td>1221.13</td><td>1649.8</td><td>995</td></tr><tr><td>2022</td><td>1</td><td>Nou Barris</td><td>653.78</td><td>767</td><td>517.7</td></tr><tr><td>2022</td><td>1</td><td>Sant Andreu</td><td>752.48</td><td>847.2</td><td>616.9</td></tr><tr><td>2022</td><td>1</td><td>Sant Marti</td><td>929.59</td><td>1305</td><td>733.9</td></tr><tr><td>2022</td><td>1</td><td>Sants-Montjuic</td><td>837.3</td><td>971.8</td><td>728.7</td></tr><tr><td>2022</td><td>1</td><td>Sarria-Sant Gervasi</td><td>1281.17</td><td>1630.8</td><td>1054.9</td></tr><tr><td>2022</td><td>2</td><td>Ciutat Vella</td><td>971.6</td><td>1062.5</td><td>872</td></tr><tr><td>2022</td><td>2</td><td>Eixample</td><td>1102.08</td><td>1328.6</td><td>985.9</td></tr><tr><td>2022</td><td>2</td><td>Gracia</td><td>939.84</td><td>1010.3</td><td>759.2</td></tr><tr><td>2022</td><td>2</td><td>Horta-Guinardo</td><td>800.92</td><td>903.9</td><td>720.3</td></tr><tr><td>2022</td><td>2</td><td>Les Corts</td><td>1335.13</td><td>1944.5</td><td>993.1</td></tr><tr><td>2022</td><td>2</td><td>Nou Barris</td><td>698.13</td><td>855.5</td><td>574.9</td></tr><tr><td>2022</td><td>2</td><td>Sant Andreu</td><td>767.83</td><td>878.4</td><td>620</td></tr><tr><td>2022</td><td>2</td><td>Sant Marti</td><td>1011.13</td><td>1442.6</td><td>757</td></tr><tr><td>2022</td><td>2</td><td>Sants-Montjuic</td><td>927.93</td><td>1407.9</td><td>638.8</td></tr><tr><td>2022</td><td>2</td><td>Sarria-Sant Gervasi</td><td>1328.9</td><td>1767</td><td>894.9</td></tr></table>"
                    },
                    "metadata": {}
                }
            ],
            "execution_count": 1
        }
    ]
}